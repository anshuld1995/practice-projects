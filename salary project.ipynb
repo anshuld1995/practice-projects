{
 "cells": [
  {
   "cell_type": "code",
   "execution_count": 4,
   "id": "153791c5",
   "metadata": {},
   "outputs": [],
   "source": [
    "import pandas as pd\n",
    "import numpy as np\n",
    "import seaborn as sns\n",
    "import matplotlib.pyplot as plt\n",
    "import warnings\n",
    "warnings.filterwarnings('ignore')"
   ]
  },
  {
   "cell_type": "code",
   "execution_count": 10,
   "id": "1a68fd77",
   "metadata": {},
   "outputs": [],
   "source": [
    "sal = pd.read_csv('https://raw.githubusercontent.com/dsrscientist/dataset3/main/Salaries.csv')"
   ]
  },
  {
   "cell_type": "code",
   "execution_count": 11,
   "id": "9192736a",
   "metadata": {},
   "outputs": [
    {
     "data": {
      "text/html": [
       "<div>\n",
       "<style scoped>\n",
       "    .dataframe tbody tr th:only-of-type {\n",
       "        vertical-align: middle;\n",
       "    }\n",
       "\n",
       "    .dataframe tbody tr th {\n",
       "        vertical-align: top;\n",
       "    }\n",
       "\n",
       "    .dataframe thead th {\n",
       "        text-align: right;\n",
       "    }\n",
       "</style>\n",
       "<table border=\"1\" class=\"dataframe\">\n",
       "  <thead>\n",
       "    <tr style=\"text-align: right;\">\n",
       "      <th></th>\n",
       "      <th>rank</th>\n",
       "      <th>discipline</th>\n",
       "      <th>yrs.since.phd</th>\n",
       "      <th>yrs.service</th>\n",
       "      <th>sex</th>\n",
       "      <th>salary</th>\n",
       "    </tr>\n",
       "  </thead>\n",
       "  <tbody>\n",
       "    <tr>\n",
       "      <th>0</th>\n",
       "      <td>Prof</td>\n",
       "      <td>B</td>\n",
       "      <td>19</td>\n",
       "      <td>18</td>\n",
       "      <td>Male</td>\n",
       "      <td>139750</td>\n",
       "    </tr>\n",
       "    <tr>\n",
       "      <th>1</th>\n",
       "      <td>Prof</td>\n",
       "      <td>B</td>\n",
       "      <td>20</td>\n",
       "      <td>16</td>\n",
       "      <td>Male</td>\n",
       "      <td>173200</td>\n",
       "    </tr>\n",
       "    <tr>\n",
       "      <th>2</th>\n",
       "      <td>AsstProf</td>\n",
       "      <td>B</td>\n",
       "      <td>4</td>\n",
       "      <td>3</td>\n",
       "      <td>Male</td>\n",
       "      <td>79750</td>\n",
       "    </tr>\n",
       "    <tr>\n",
       "      <th>3</th>\n",
       "      <td>Prof</td>\n",
       "      <td>B</td>\n",
       "      <td>45</td>\n",
       "      <td>39</td>\n",
       "      <td>Male</td>\n",
       "      <td>115000</td>\n",
       "    </tr>\n",
       "    <tr>\n",
       "      <th>4</th>\n",
       "      <td>Prof</td>\n",
       "      <td>B</td>\n",
       "      <td>40</td>\n",
       "      <td>41</td>\n",
       "      <td>Male</td>\n",
       "      <td>141500</td>\n",
       "    </tr>\n",
       "    <tr>\n",
       "      <th>...</th>\n",
       "      <td>...</td>\n",
       "      <td>...</td>\n",
       "      <td>...</td>\n",
       "      <td>...</td>\n",
       "      <td>...</td>\n",
       "      <td>...</td>\n",
       "    </tr>\n",
       "    <tr>\n",
       "      <th>392</th>\n",
       "      <td>Prof</td>\n",
       "      <td>A</td>\n",
       "      <td>33</td>\n",
       "      <td>30</td>\n",
       "      <td>Male</td>\n",
       "      <td>103106</td>\n",
       "    </tr>\n",
       "    <tr>\n",
       "      <th>393</th>\n",
       "      <td>Prof</td>\n",
       "      <td>A</td>\n",
       "      <td>31</td>\n",
       "      <td>19</td>\n",
       "      <td>Male</td>\n",
       "      <td>150564</td>\n",
       "    </tr>\n",
       "    <tr>\n",
       "      <th>394</th>\n",
       "      <td>Prof</td>\n",
       "      <td>A</td>\n",
       "      <td>42</td>\n",
       "      <td>25</td>\n",
       "      <td>Male</td>\n",
       "      <td>101738</td>\n",
       "    </tr>\n",
       "    <tr>\n",
       "      <th>395</th>\n",
       "      <td>Prof</td>\n",
       "      <td>A</td>\n",
       "      <td>25</td>\n",
       "      <td>15</td>\n",
       "      <td>Male</td>\n",
       "      <td>95329</td>\n",
       "    </tr>\n",
       "    <tr>\n",
       "      <th>396</th>\n",
       "      <td>AsstProf</td>\n",
       "      <td>A</td>\n",
       "      <td>8</td>\n",
       "      <td>4</td>\n",
       "      <td>Male</td>\n",
       "      <td>81035</td>\n",
       "    </tr>\n",
       "  </tbody>\n",
       "</table>\n",
       "<p>397 rows × 6 columns</p>\n",
       "</div>"
      ],
      "text/plain": [
       "         rank discipline  yrs.since.phd  yrs.service   sex  salary\n",
       "0        Prof          B             19           18  Male  139750\n",
       "1        Prof          B             20           16  Male  173200\n",
       "2    AsstProf          B              4            3  Male   79750\n",
       "3        Prof          B             45           39  Male  115000\n",
       "4        Prof          B             40           41  Male  141500\n",
       "..        ...        ...            ...          ...   ...     ...\n",
       "392      Prof          A             33           30  Male  103106\n",
       "393      Prof          A             31           19  Male  150564\n",
       "394      Prof          A             42           25  Male  101738\n",
       "395      Prof          A             25           15  Male   95329\n",
       "396  AsstProf          A              8            4  Male   81035\n",
       "\n",
       "[397 rows x 6 columns]"
      ]
     },
     "execution_count": 11,
     "metadata": {},
     "output_type": "execute_result"
    }
   ],
   "source": [
    "sal"
   ]
  },
  {
   "cell_type": "code",
   "execution_count": 12,
   "id": "90101895",
   "metadata": {},
   "outputs": [
    {
     "data": {
      "text/plain": [
       "Index(['rank', 'discipline', 'yrs.since.phd', 'yrs.service', 'sex', 'salary'], dtype='object')"
      ]
     },
     "execution_count": 12,
     "metadata": {},
     "output_type": "execute_result"
    }
   ],
   "source": [
    "sal.columns"
   ]
  },
  {
   "cell_type": "markdown",
   "id": "b576f2d9",
   "metadata": {},
   "source": [
    "About the columns in the dataset\n",
    "Rank: This column tells about the rank earned by the person basis on diffrent other factors\n",
    "\n",
    "disipline:- it shows us the measure of work they have achived in evrything they have done\n",
    "\n",
    "Years_since_phd: This column tells us that how many years completed after the person had done Phd. degree\n",
    "\n",
    "Years_service: This column tells us about that how many years of experince he/she has in a company\n",
    "\n",
    "Sex: This column given the sex-ratio of male vs female .\n",
    "\n",
    "Salary: this is our Output or label column for prediction"
   ]
  },
  {
   "cell_type": "code",
   "execution_count": 13,
   "id": "642bdd9e",
   "metadata": {},
   "outputs": [
    {
     "data": {
      "text/plain": [
       "rank             0\n",
       "discipline       0\n",
       "yrs.since.phd    0\n",
       "yrs.service      0\n",
       "sex              0\n",
       "salary           0\n",
       "dtype: int64"
      ]
     },
     "execution_count": 13,
     "metadata": {},
     "output_type": "execute_result"
    }
   ],
   "source": [
    "sal.isnull().sum()"
   ]
  },
  {
   "cell_type": "markdown",
   "id": "9c635053",
   "metadata": {},
   "source": [
    "so we can see that there is no Null values present in this Dataset"
   ]
  },
  {
   "cell_type": "markdown",
   "id": "d3236d9f",
   "metadata": {},
   "source": [
    "Performing the EDA"
   ]
  },
  {
   "cell_type": "code",
   "execution_count": 14,
   "id": "b37b5578",
   "metadata": {},
   "outputs": [
    {
     "data": {
      "text/plain": [
       "Male      358\n",
       "Female     39\n",
       "Name: sex, dtype: int64"
      ]
     },
     "execution_count": 14,
     "metadata": {},
     "output_type": "execute_result"
    }
   ],
   "source": [
    "sal['sex'].value_counts()"
   ]
  },
  {
   "cell_type": "markdown",
   "id": "f6256a9f",
   "metadata": {},
   "source": [
    "so we have 358 males and only 39 females here"
   ]
  },
  {
   "cell_type": "code",
   "execution_count": 16,
   "id": "0996116c",
   "metadata": {},
   "outputs": [
    {
     "data": {
      "text/plain": [
       "<AxesSubplot:xlabel='sex', ylabel='count'>"
      ]
     },
     "execution_count": 16,
     "metadata": {},
     "output_type": "execute_result"
    },
    {
     "data": {
      "image/png": "[encoded data removed]",
      "text/plain": [
       "<Figure size 432x288 with 1 Axes>"
      ]
     },
     "metadata": {
      "needs_background": "light"
     },
     "output_type": "display_data"
    }
   ],
   "source": [
    "sns.countplot(sal['sex'], palette='Set3', saturation=0.9, dodge=True)"
   ]
  },
  {
   "cell_type": "markdown",
   "id": "012c2c26",
   "metadata": {},
   "source": [
    "More of Males and less of females"
   ]
  },
  {
   "cell_type": "code",
   "execution_count": 17,
   "id": "88ccd37e",
   "metadata": {},
   "outputs": [
    {
     "data": {
      "text/plain": [
       "<seaborn.axisgrid.FacetGrid at 0x1898e5c1f40>"
      ]
     },
     "execution_count": 17,
     "metadata": {},
     "output_type": "execute_result"
    },
    {
     "data": {
      "image/png": "[encoded data removed]",
      "text/plain": [
       "<Figure size 432x432 with 1 Axes>"
      ]
     },
     "metadata": {},
     "output_type": "display_data"
    }
   ],
   "source": [
    "sns.set_theme(style=\"darkgrid\")\n",
    "sns.catplot(x=\"discipline\", y=\"salary\", hue=\"sex\", data=sal,  height=6, aspect=1, palette='Set2',legend_out=False)"
   ]
  },
  {
   "cell_type": "markdown",
   "id": "da485c50",
   "metadata": {},
   "source": [
    "Observations:\n",
    "\n",
    "1. As we  can see  that according to discipline also we  have more  males salary and less female salary\n",
    "\n",
    "2. As we can see  according  to  the discipline  we have more of males  in both  the  discipline A & B\n",
    "\n",
    "3. The B  category  discipline has the Max amount  of salary than  A"
   ]
  },
  {
   "cell_type": "code",
   "execution_count": 18,
   "id": "2efdba87",
   "metadata": {},
   "outputs": [
    {
     "data": {
      "text/plain": [
       "<seaborn.axisgrid.FacetGrid at 0x1898e6c5910>"
      ]
     },
     "execution_count": 18,
     "metadata": {},
     "output_type": "execute_result"
    },
    {
     "data": {
      "image/png": "[encoded data removed]",
      "text/plain": [
       "<Figure size 432x432 with 1 Axes>"
      ]
     },
     "metadata": {},
     "output_type": "display_data"
    }
   ],
   "source": [
    "sns.set_theme(style=\"darkgrid\")\n",
    "sns.catplot(x=\"rank\", y=\"salary\", hue=\"sex\", data=sal,  height=6, aspect=1, palette='Set2',legend_out=False)"
   ]
  },
  {
   "cell_type": "markdown",
   "id": "a7b32bbc",
   "metadata": {},
   "source": [
    "observations:\n",
    "1.Here  we  can easily  identify  that in each of  the 3 ranks  we  have more number of males than that of \n",
    "     females\n",
    "\n",
    "2. Here we  can say  that\n",
    "    Prof-rank: has  the  highest salary counts with ranks count\n",
    "    Asstprof_rank: has  the lowest salary counts with  ranks counts  too\n",
    "    Assocprof_rank: has the medium salary counts with ranks  counts too."
   ]
  },
  {
   "cell_type": "code",
   "execution_count": 19,
   "id": "85ae6b49",
   "metadata": {},
   "outputs": [
    {
     "data": {
      "text/plain": [
       "<seaborn.axisgrid.FacetGrid at 0x1898e6c5580>"
      ]
     },
     "execution_count": 19,
     "metadata": {},
     "output_type": "execute_result"
    },
    {
     "data": {
      "image/png": "[encoded data removed]",
      "text/plain": [
       "<Figure size 864x432 with 1 Axes>"
      ]
     },
     "metadata": {},
     "output_type": "display_data"
    }
   ],
   "source": [
    "sns.set_theme(style=\"darkgrid\")\n",
    "sns.catplot(x=\"yrs.since.phd\", y=\"salary\", hue=\"rank\", data=sal,  height=6, aspect=2, palette='Set1',legend_out=False)"
   ]
  },
  {
   "cell_type": "markdown",
   "id": "ea99a846",
   "metadata": {},
   "source": [
    "Observations:\n",
    "\n",
    " 1 . As it  can be seen  that  the according  to increase  in  the years  of phd  completed  the  salary is \n",
    "       moving  up  simultaneously\n",
    "\n",
    " 2.  As it  can be seen  that the rank prof  is more  in case  of completition of degree Phd."
   ]
  },
  {
   "cell_type": "markdown",
   "id": "6ab92e5c",
   "metadata": {},
   "source": [
    "Finding the Correlation"
   ]
  },
  {
   "cell_type": "code",
   "execution_count": 21,
   "id": "a6cdac6f",
   "metadata": {},
   "outputs": [
    {
     "data": {
      "text/html": [
       "<div>\n",
       "<style scoped>\n",
       "    .dataframe tbody tr th:only-of-type {\n",
       "        vertical-align: middle;\n",
       "    }\n",
       "\n",
       "    .dataframe tbody tr th {\n",
       "        vertical-align: top;\n",
       "    }\n",
       "\n",
       "    .dataframe thead th {\n",
       "        text-align: right;\n",
       "    }\n",
       "</style>\n",
       "<table border=\"1\" class=\"dataframe\">\n",
       "  <thead>\n",
       "    <tr style=\"text-align: right;\">\n",
       "      <th></th>\n",
       "      <th>yrs.since.phd</th>\n",
       "      <th>yrs.service</th>\n",
       "      <th>salary</th>\n",
       "    </tr>\n",
       "  </thead>\n",
       "  <tbody>\n",
       "    <tr>\n",
       "      <th>yrs.since.phd</th>\n",
       "      <td>1.000000</td>\n",
       "      <td>0.909649</td>\n",
       "      <td>0.419231</td>\n",
       "    </tr>\n",
       "    <tr>\n",
       "      <th>yrs.service</th>\n",
       "      <td>0.909649</td>\n",
       "      <td>1.000000</td>\n",
       "      <td>0.334745</td>\n",
       "    </tr>\n",
       "    <tr>\n",
       "      <th>salary</th>\n",
       "      <td>0.419231</td>\n",
       "      <td>0.334745</td>\n",
       "      <td>1.000000</td>\n",
       "    </tr>\n",
       "  </tbody>\n",
       "</table>\n",
       "</div>"
      ],
      "text/plain": [
       "               yrs.since.phd  yrs.service    salary\n",
       "yrs.since.phd       1.000000     0.909649  0.419231\n",
       "yrs.service         0.909649     1.000000  0.334745\n",
       "salary              0.419231     0.334745  1.000000"
      ]
     },
     "execution_count": 21,
     "metadata": {},
     "output_type": "execute_result"
    }
   ],
   "source": [
    "sal.corr()"
   ]
  },
  {
   "cell_type": "code",
   "execution_count": 22,
   "id": "15d5be4b",
   "metadata": {},
   "outputs": [
    {
     "data": {
      "text/plain": [
       "yrs.service      0.334745\n",
       "yrs.since.phd    0.419231\n",
       "salary           1.000000\n",
       "Name: salary, dtype: float64"
      ]
     },
     "execution_count": 22,
     "metadata": {},
     "output_type": "execute_result"
    }
   ],
   "source": [
    "sal.corr()['salary'].sort_values()"
   ]
  },
  {
   "cell_type": "code",
   "execution_count": 23,
   "id": "ab120542",
   "metadata": {},
   "outputs": [
    {
     "data": {
      "text/plain": [
       "<AxesSubplot:>"
      ]
     },
     "execution_count": 23,
     "metadata": {},
     "output_type": "execute_result"
    },
    {
     "data": {
      "image/png": "[encoded data removed]",
      "text/plain": [
       "<Figure size 720x432 with 2 Axes>"
      ]
     },
     "metadata": {},
     "output_type": "display_data"
    }
   ],
   "source": [
    "import matplotlib.pyplot  as plt\n",
    "# making  the  canvas  size\n",
    "plt.figure(figsize=(10,6))\n",
    "sns.heatmap(sal.corr(),annot =True, linewidths=0.5, linecolor='black', fmt='.2f',cmap='BuGn')"
   ]
  },
  {
   "cell_type": "markdown",
   "id": "bc648b04",
   "metadata": {},
   "source": [
    "Observations:\n",
    "\n",
    "1. yrs.since.phd  is 42% correlated to salary  which is a   good score\n",
    "2. yrs.service  is 33% correlated  to salary  whcih is also a   good score"
   ]
  },
  {
   "cell_type": "code",
   "execution_count": 25,
   "id": "f28158cd",
   "metadata": {},
   "outputs": [
    {
     "data": {
      "text/html": [
       "<div>\n",
       "<style scoped>\n",
       "    .dataframe tbody tr th:only-of-type {\n",
       "        vertical-align: middle;\n",
       "    }\n",
       "\n",
       "    .dataframe tbody tr th {\n",
       "        vertical-align: top;\n",
       "    }\n",
       "\n",
       "    .dataframe thead th {\n",
       "        text-align: right;\n",
       "    }\n",
       "</style>\n",
       "<table border=\"1\" class=\"dataframe\">\n",
       "  <thead>\n",
       "    <tr style=\"text-align: right;\">\n",
       "      <th></th>\n",
       "      <th>yrs.since.phd</th>\n",
       "      <th>yrs.service</th>\n",
       "      <th>salary</th>\n",
       "    </tr>\n",
       "  </thead>\n",
       "  <tbody>\n",
       "    <tr>\n",
       "      <th>count</th>\n",
       "      <td>397.000000</td>\n",
       "      <td>397.000000</td>\n",
       "      <td>397.000000</td>\n",
       "    </tr>\n",
       "    <tr>\n",
       "      <th>mean</th>\n",
       "      <td>22.314861</td>\n",
       "      <td>17.614610</td>\n",
       "      <td>113706.458438</td>\n",
       "    </tr>\n",
       "    <tr>\n",
       "      <th>std</th>\n",
       "      <td>12.887003</td>\n",
       "      <td>13.006024</td>\n",
       "      <td>30289.038695</td>\n",
       "    </tr>\n",
       "    <tr>\n",
       "      <th>min</th>\n",
       "      <td>1.000000</td>\n",
       "      <td>0.000000</td>\n",
       "      <td>57800.000000</td>\n",
       "    </tr>\n",
       "    <tr>\n",
       "      <th>25%</th>\n",
       "      <td>12.000000</td>\n",
       "      <td>7.000000</td>\n",
       "      <td>91000.000000</td>\n",
       "    </tr>\n",
       "    <tr>\n",
       "      <th>50%</th>\n",
       "      <td>21.000000</td>\n",
       "      <td>16.000000</td>\n",
       "      <td>107300.000000</td>\n",
       "    </tr>\n",
       "    <tr>\n",
       "      <th>75%</th>\n",
       "      <td>32.000000</td>\n",
       "      <td>27.000000</td>\n",
       "      <td>134185.000000</td>\n",
       "    </tr>\n",
       "    <tr>\n",
       "      <th>max</th>\n",
       "      <td>56.000000</td>\n",
       "      <td>60.000000</td>\n",
       "      <td>231545.000000</td>\n",
       "    </tr>\n",
       "  </tbody>\n",
       "</table>\n",
       "</div>"
      ],
      "text/plain": [
       "       yrs.since.phd  yrs.service         salary\n",
       "count     397.000000   397.000000     397.000000\n",
       "mean       22.314861    17.614610  113706.458438\n",
       "std        12.887003    13.006024   30289.038695\n",
       "min         1.000000     0.000000   57800.000000\n",
       "25%        12.000000     7.000000   91000.000000\n",
       "50%        21.000000    16.000000  107300.000000\n",
       "75%        32.000000    27.000000  134185.000000\n",
       "max        56.000000    60.000000  231545.000000"
      ]
     },
     "execution_count": 25,
     "metadata": {},
     "output_type": "execute_result"
    }
   ],
   "source": [
    "sal.describe()"
   ]
  },
  {
   "cell_type": "code",
   "execution_count": 26,
   "id": "849d070d",
   "metadata": {},
   "outputs": [
    {
     "data": {
      "image/png": "[encoded data removed]",
      "text/plain": [
       "<Figure size 1080x504 with 2 Axes>"
      ]
     },
     "metadata": {},
     "output_type": "display_data"
    }
   ],
   "source": [
    "plt.figure(figsize=(15,7))\n",
    "sns.heatmap(round(sal.describe()[1:].transpose(),2), linewidth =2, fmt='f', annot=True,cmap='Blues_r')\n",
    "plt.xticks(fontsize=18)\n",
    "plt.yticks(fontsize=12)\n",
    "plt.title('variable  summary')\n",
    "plt.show()"
   ]
  },
  {
   "cell_type": "markdown",
   "id": "768da3a7",
   "metadata": {},
   "source": [
    "observations:\n",
    "\n",
    "yrs.since.phd:\n",
    "    mean=22.314681\n",
    "    std= 12.887\n",
    "    min= 1.0000\n",
    "    max = 56.000\n",
    "\n",
    "yrs.service:\n",
    "    mean=17.6146\n",
    "    std=13.006024\n",
    "    min=0.000\n",
    "    max= 60.000\n",
    "\n",
    "salary:\n",
    "    mean=113706.4584\n",
    "    std= 30289.038\n",
    "    min=57800.000\n",
    "    max =231545.0000"
   ]
  },
  {
   "cell_type": "code",
   "execution_count": 27,
   "id": "d8f59b11",
   "metadata": {},
   "outputs": [
    {
     "name": "stdout",
     "output_type": "stream",
     "text": [
      "<class 'pandas.core.frame.DataFrame'>\n",
      "RangeIndex: 397 entries, 0 to 396\n",
      "Data columns (total 6 columns):\n",
      " #   Column         Non-Null Count  Dtype \n",
      "---  ------         --------------  ----- \n",
      " 0   rank           397 non-null    object\n",
      " 1   discipline     397 non-null    object\n",
      " 2   yrs.since.phd  397 non-null    int64 \n",
      " 3   yrs.service    397 non-null    int64 \n",
      " 4   sex            397 non-null    object\n",
      " 5   salary         397 non-null    int64 \n",
      "dtypes: int64(3), object(3)\n",
      "memory usage: 18.7+ KB\n"
     ]
    }
   ],
   "source": [
    "sal.info()"
   ]
  },
  {
   "cell_type": "markdown",
   "id": "7117254a",
   "metadata": {},
   "source": [
    "\n",
    "Outliers Checking"
   ]
  },
  {
   "cell_type": "code",
   "execution_count": 28,
   "id": "9b4a4f9d",
   "metadata": {},
   "outputs": [
    {
     "data": {
      "text/plain": [
       "<AxesSubplot:xlabel='yrs.since.phd'>"
      ]
     },
     "execution_count": 28,
     "metadata": {},
     "output_type": "execute_result"
    },
    {
     "data": {
      "image/png": "[encoded data removed]",
      "text/plain": [
       "<Figure size 432x288 with 1 Axes>"
      ]
     },
     "metadata": {},
     "output_type": "display_data"
    }
   ],
   "source": [
    "sns.boxplot(sal['yrs.since.phd'], palette='Set3')"
   ]
  },
  {
   "cell_type": "code",
   "execution_count": 29,
   "id": "a40c3d0b",
   "metadata": {},
   "outputs": [
    {
     "data": {
      "text/plain": [
       "<AxesSubplot:xlabel='yrs.service'>"
      ]
     },
     "execution_count": 29,
     "metadata": {},
     "output_type": "execute_result"
    },
    {
     "data": {
      "image/png": "[encoded data removed]",
      "text/plain": [
       "<Figure size 432x288 with 1 Axes>"
      ]
     },
     "metadata": {},
     "output_type": "display_data"
    }
   ],
   "source": [
    "sns.boxplot(sal['yrs.service'], palette='Set2')"
   ]
  },
  {
   "cell_type": "markdown",
   "id": "9d81601b",
   "metadata": {},
   "source": [
    "Checking the Skewness in the Dataset"
   ]
  },
  {
   "cell_type": "code",
   "execution_count": 30,
   "id": "f04ca11b",
   "metadata": {},
   "outputs": [
    {
     "data": {
      "text/plain": [
       "yrs.since.phd    0.300880\n",
       "yrs.service      0.650569\n",
       "salary           0.714568\n",
       "dtype: float64"
      ]
     },
     "execution_count": 30,
     "metadata": {},
     "output_type": "execute_result"
    }
   ],
   "source": [
    "sal.skew()"
   ]
  },
  {
   "cell_type": "markdown",
   "id": "7f66bdda",
   "metadata": {},
   "source": [
    "Graph reprresentation of the columns"
   ]
  },
  {
   "cell_type": "code",
   "execution_count": 32,
   "id": "21d0f32b",
   "metadata": {},
   "outputs": [
    {
     "data": {
      "text/plain": [
       "<AxesSubplot:xlabel='yrs.since.phd', ylabel='Density'>"
      ]
     },
     "execution_count": 32,
     "metadata": {},
     "output_type": "execute_result"
    },
    {
     "data": {
      "image/png": "[encoded data removed]",
      "text/plain": [
       "<Figure size 432x288 with 1 Axes>"
      ]
     },
     "metadata": {},
     "output_type": "display_data"
    }
   ],
   "source": [
    " sns.distplot(sal['yrs.since.phd'], color ='navy')"
   ]
  },
  {
   "cell_type": "code",
   "execution_count": 33,
   "id": "bf9d78a7",
   "metadata": {},
   "outputs": [
    {
     "data": {
      "text/plain": [
       "<AxesSubplot:xlabel='yrs.service', ylabel='Density'>"
      ]
     },
     "execution_count": 33,
     "metadata": {},
     "output_type": "execute_result"
    },
    {
     "data": {
      "image/png": "[encoded data removed]",
      "text/plain": [
       "<Figure size 432x288 with 1 Axes>"
      ]
     },
     "metadata": {},
     "output_type": "display_data"
    }
   ],
   "source": [
    "sns.distplot(sal['yrs.service'], color='orange')"
   ]
  },
  {
   "cell_type": "markdown",
   "id": "8175e584",
   "metadata": {},
   "source": [
    "observations - As the skewness is normal here and yrs.since phd has no skewness only little skewness is there in col yrs.service"
   ]
  },
  {
   "cell_type": "markdown",
   "id": "d48dccab",
   "metadata": {},
   "source": [
    "Data Cleaning and preprocessing"
   ]
  },
  {
   "cell_type": "markdown",
   "id": "16d43f09",
   "metadata": {},
   "source": [
    "Feature engineering (encoding)"
   ]
  },
  {
   "cell_type": "markdown",
   "id": "a0560b18",
   "metadata": {},
   "source": [
    "labelEncoding the categorical columns"
   ]
  },
  {
   "cell_type": "code",
   "execution_count": 35,
   "id": "e4d0c9b7",
   "metadata": {},
   "outputs": [],
   "source": [
    "from sklearn.preprocessing  import LabelEncoder\n",
    "le=LabelEncoder()\n",
    "sal['rank']=le.fit_transform(sal['rank'])\n",
    "sal['discipline']=le.fit_transform(sal['discipline'])\n",
    "sal['sex']=le.fit_transform(sal['sex'])"
   ]
  },
  {
   "cell_type": "code",
   "execution_count": 36,
   "id": "ffc77f89",
   "metadata": {},
   "outputs": [
    {
     "data": {
      "text/html": [
       "<div>\n",
       "<style scoped>\n",
       "    .dataframe tbody tr th:only-of-type {\n",
       "        vertical-align: middle;\n",
       "    }\n",
       "\n",
       "    .dataframe tbody tr th {\n",
       "        vertical-align: top;\n",
       "    }\n",
       "\n",
       "    .dataframe thead th {\n",
       "        text-align: right;\n",
       "    }\n",
       "</style>\n",
       "<table border=\"1\" class=\"dataframe\">\n",
       "  <thead>\n",
       "    <tr style=\"text-align: right;\">\n",
       "      <th></th>\n",
       "      <th>rank</th>\n",
       "      <th>discipline</th>\n",
       "      <th>yrs.since.phd</th>\n",
       "      <th>yrs.service</th>\n",
       "      <th>sex</th>\n",
       "      <th>salary</th>\n",
       "    </tr>\n",
       "  </thead>\n",
       "  <tbody>\n",
       "    <tr>\n",
       "      <th>0</th>\n",
       "      <td>2</td>\n",
       "      <td>1</td>\n",
       "      <td>19</td>\n",
       "      <td>18</td>\n",
       "      <td>1</td>\n",
       "      <td>139750</td>\n",
       "    </tr>\n",
       "    <tr>\n",
       "      <th>1</th>\n",
       "      <td>2</td>\n",
       "      <td>1</td>\n",
       "      <td>20</td>\n",
       "      <td>16</td>\n",
       "      <td>1</td>\n",
       "      <td>173200</td>\n",
       "    </tr>\n",
       "    <tr>\n",
       "      <th>2</th>\n",
       "      <td>1</td>\n",
       "      <td>1</td>\n",
       "      <td>4</td>\n",
       "      <td>3</td>\n",
       "      <td>1</td>\n",
       "      <td>79750</td>\n",
       "    </tr>\n",
       "    <tr>\n",
       "      <th>3</th>\n",
       "      <td>2</td>\n",
       "      <td>1</td>\n",
       "      <td>45</td>\n",
       "      <td>39</td>\n",
       "      <td>1</td>\n",
       "      <td>115000</td>\n",
       "    </tr>\n",
       "    <tr>\n",
       "      <th>4</th>\n",
       "      <td>2</td>\n",
       "      <td>1</td>\n",
       "      <td>40</td>\n",
       "      <td>41</td>\n",
       "      <td>1</td>\n",
       "      <td>141500</td>\n",
       "    </tr>\n",
       "    <tr>\n",
       "      <th>5</th>\n",
       "      <td>0</td>\n",
       "      <td>1</td>\n",
       "      <td>6</td>\n",
       "      <td>6</td>\n",
       "      <td>1</td>\n",
       "      <td>97000</td>\n",
       "    </tr>\n",
       "    <tr>\n",
       "      <th>6</th>\n",
       "      <td>2</td>\n",
       "      <td>1</td>\n",
       "      <td>30</td>\n",
       "      <td>23</td>\n",
       "      <td>1</td>\n",
       "      <td>175000</td>\n",
       "    </tr>\n",
       "    <tr>\n",
       "      <th>7</th>\n",
       "      <td>2</td>\n",
       "      <td>1</td>\n",
       "      <td>45</td>\n",
       "      <td>45</td>\n",
       "      <td>1</td>\n",
       "      <td>147765</td>\n",
       "    </tr>\n",
       "    <tr>\n",
       "      <th>8</th>\n",
       "      <td>2</td>\n",
       "      <td>1</td>\n",
       "      <td>21</td>\n",
       "      <td>20</td>\n",
       "      <td>1</td>\n",
       "      <td>119250</td>\n",
       "    </tr>\n",
       "    <tr>\n",
       "      <th>9</th>\n",
       "      <td>2</td>\n",
       "      <td>1</td>\n",
       "      <td>18</td>\n",
       "      <td>18</td>\n",
       "      <td>0</td>\n",
       "      <td>129000</td>\n",
       "    </tr>\n",
       "  </tbody>\n",
       "</table>\n",
       "</div>"
      ],
      "text/plain": [
       "   rank  discipline  yrs.since.phd  yrs.service  sex  salary\n",
       "0     2           1             19           18    1  139750\n",
       "1     2           1             20           16    1  173200\n",
       "2     1           1              4            3    1   79750\n",
       "3     2           1             45           39    1  115000\n",
       "4     2           1             40           41    1  141500\n",
       "5     0           1              6            6    1   97000\n",
       "6     2           1             30           23    1  175000\n",
       "7     2           1             45           45    1  147765\n",
       "8     2           1             21           20    1  119250\n",
       "9     2           1             18           18    0  129000"
      ]
     },
     "execution_count": 36,
     "metadata": {},
     "output_type": "execute_result"
    }
   ],
   "source": [
    "sal.head(10)"
   ]
  },
  {
   "cell_type": "markdown",
   "id": "d51779a8",
   "metadata": {},
   "source": [
    "so we have encoded all the categorical cols with the help of LabelEncoder"
   ]
  },
  {
   "cell_type": "code",
   "execution_count": 37,
   "id": "c13e1384",
   "metadata": {},
   "outputs": [],
   "source": [
    "import statsmodels.api as sm\n",
    "from scipy import stats\n",
    "from statsmodels.stats.outliers_influence import variance_inflation_factor"
   ]
  },
  {
   "cell_type": "code",
   "execution_count": 39,
   "id": "a51c5e1d",
   "metadata": {},
   "outputs": [],
   "source": [
    "sal.drop(['yrs.since.phd'],axis=1, inplace=True)"
   ]
  },
  {
   "cell_type": "code",
   "execution_count": 40,
   "id": "94ea2af0",
   "metadata": {},
   "outputs": [],
   "source": [
    "sal.drop(['rank'], axis=1, inplace =True)"
   ]
  },
  {
   "cell_type": "code",
   "execution_count": 41,
   "id": "ea2772c8",
   "metadata": {},
   "outputs": [],
   "source": [
    "sal.drop(['discipline'], axis=1, inplace=True)"
   ]
  },
  {
   "cell_type": "code",
   "execution_count": 42,
   "id": "b434c6c8",
   "metadata": {},
   "outputs": [],
   "source": [
    "sal.drop(['sex'], axis=1, inplace=True)"
   ]
  },
  {
   "cell_type": "markdown",
   "id": "322d556f",
   "metadata": {},
   "source": [
    "o as we can see here that the col yrs.since.phd has high correlation and collinearity which may effect the model building thus we have to drop this now"
   ]
  },
  {
   "cell_type": "markdown",
   "id": "c1e375bb",
   "metadata": {},
   "source": [
    "Outliers removal with Scipy"
   ]
  },
  {
   "cell_type": "code",
   "execution_count": 43,
   "id": "b5294dbd",
   "metadata": {},
   "outputs": [
    {
     "data": {
      "text/html": [
       "<div>\n",
       "<style scoped>\n",
       "    .dataframe tbody tr th:only-of-type {\n",
       "        vertical-align: middle;\n",
       "    }\n",
       "\n",
       "    .dataframe tbody tr th {\n",
       "        vertical-align: top;\n",
       "    }\n",
       "\n",
       "    .dataframe thead th {\n",
       "        text-align: right;\n",
       "    }\n",
       "</style>\n",
       "<table border=\"1\" class=\"dataframe\">\n",
       "  <thead>\n",
       "    <tr style=\"text-align: right;\">\n",
       "      <th></th>\n",
       "      <th>yrs.service</th>\n",
       "      <th>salary</th>\n",
       "    </tr>\n",
       "  </thead>\n",
       "  <tbody>\n",
       "    <tr>\n",
       "      <th>0</th>\n",
       "      <td>0.029669</td>\n",
       "      <td>0.860919</td>\n",
       "    </tr>\n",
       "    <tr>\n",
       "      <th>1</th>\n",
       "      <td>0.124300</td>\n",
       "      <td>1.966672</td>\n",
       "    </tr>\n",
       "    <tr>\n",
       "      <th>2</th>\n",
       "      <td>1.125098</td>\n",
       "      <td>1.122495</td>\n",
       "    </tr>\n",
       "    <tr>\n",
       "      <th>3</th>\n",
       "      <td>1.646343</td>\n",
       "      <td>0.042760</td>\n",
       "    </tr>\n",
       "    <tr>\n",
       "      <th>4</th>\n",
       "      <td>1.800312</td>\n",
       "      <td>0.918768</td>\n",
       "    </tr>\n",
       "    <tr>\n",
       "      <th>...</th>\n",
       "      <td>...</td>\n",
       "      <td>...</td>\n",
       "    </tr>\n",
       "    <tr>\n",
       "      <th>392</th>\n",
       "      <td>0.953483</td>\n",
       "      <td>0.350418</td>\n",
       "    </tr>\n",
       "    <tr>\n",
       "      <th>393</th>\n",
       "      <td>0.106654</td>\n",
       "      <td>1.218396</td>\n",
       "    </tr>\n",
       "    <tr>\n",
       "      <th>394</th>\n",
       "      <td>0.568560</td>\n",
       "      <td>0.395640</td>\n",
       "    </tr>\n",
       "    <tr>\n",
       "      <th>395</th>\n",
       "      <td>0.201284</td>\n",
       "      <td>0.607502</td>\n",
       "    </tr>\n",
       "    <tr>\n",
       "      <th>396</th>\n",
       "      <td>1.048113</td>\n",
       "      <td>1.080017</td>\n",
       "    </tr>\n",
       "  </tbody>\n",
       "</table>\n",
       "<p>397 rows × 2 columns</p>\n",
       "</div>"
      ],
      "text/plain": [
       "     yrs.service    salary\n",
       "0       0.029669  0.860919\n",
       "1       0.124300  1.966672\n",
       "2       1.125098  1.122495\n",
       "3       1.646343  0.042760\n",
       "4       1.800312  0.918768\n",
       "..           ...       ...\n",
       "392     0.953483  0.350418\n",
       "393     0.106654  1.218396\n",
       "394     0.568560  0.395640\n",
       "395     0.201284  0.607502\n",
       "396     1.048113  1.080017\n",
       "\n",
       "[397 rows x 2 columns]"
      ]
     },
     "execution_count": 43,
     "metadata": {},
     "output_type": "execute_result"
    }
   ],
   "source": [
    "import scipy\n",
    "from scipy.stats import zscore\n",
    "\n",
    "z= np.abs(zscore(sal))\n",
    "z"
   ]
  },
  {
   "cell_type": "code",
   "execution_count": 44,
   "id": "daac6ceb",
   "metadata": {},
   "outputs": [
    {
     "name": "stdout",
     "output_type": "stream",
     "text": [
      "(array([ 43, 131, 330, 364], dtype=int64), array([1, 0, 0, 1], dtype=int64))\n"
     ]
    }
   ],
   "source": [
    "#setting  the threshold   limit  as  3  accordance  to  the  emprical  rule  \n",
    "threshold=3\n",
    "print(np.where(z>3))"
   ]
  },
  {
   "cell_type": "code",
   "execution_count": 45,
   "id": "58d4aa31",
   "metadata": {},
   "outputs": [
    {
     "data": {
      "text/plain": [
       "4"
      ]
     },
     "execution_count": 45,
     "metadata": {},
     "output_type": "execute_result"
    }
   ],
   "source": [
    "len(np.where(z>3)[0])"
   ]
  },
  {
   "cell_type": "code",
   "execution_count": 46,
   "id": "dd2e0cf2",
   "metadata": {},
   "outputs": [
    {
     "data": {
      "text/plain": [
       "yrs.service    1.954281\n",
       "salary         3.034410\n",
       "Name: 364, dtype: float64"
      ]
     },
     "execution_count": 46,
     "metadata": {},
     "output_type": "execute_result"
    }
   ],
   "source": [
    "z.iloc[364]"
   ]
  },
  {
   "cell_type": "markdown",
   "id": "c3247e5f",
   "metadata": {},
   "source": [
    "So we can see that when we are earching with index when can see that here in the row 364 there is one\n",
    "`outliers prsent which may easily effect our model performance"
   ]
  },
  {
   "cell_type": "code",
   "execution_count": 47,
   "id": "891ef102",
   "metadata": {},
   "outputs": [
    {
     "name": "stdout",
     "output_type": "stream",
     "text": [
      "old_dataframe (397, 2)\n",
      "new_dataframe (393, 2)\n",
      "total_dropped_rows 4\n"
     ]
    }
   ],
   "source": [
    "# now  we  can  drop the  Outliers  from  the  rows \n",
    "df_new= sal[(z<3).all(axis=1)]\n",
    "print('old_dataframe',sal.shape)\n",
    "print('new_dataframe', df_new.shape)\n",
    "print('total_dropped_rows', sal.shape[0]-df_new.shape[0])"
   ]
  },
  {
   "cell_type": "markdown",
   "id": "2bb355eb",
   "metadata": {},
   "source": [
    "So now we have dropped all the outliers from the dataset"
   ]
  },
  {
   "cell_type": "code",
   "execution_count": 48,
   "id": "927395cb",
   "metadata": {},
   "outputs": [
    {
     "name": "stdout",
     "output_type": "stream",
     "text": [
      "loss_% from the  data:- 10.831234256926953 %\n"
     ]
    }
   ],
   "source": [
    "loss_percentage = (397-354)/397*100\n",
    "print('loss_% from the  data:-',loss_percentage,'%')"
   ]
  },
  {
   "cell_type": "markdown",
   "id": "15509132",
   "metadata": {},
   "source": [
    "further split of data for processing"
   ]
  },
  {
   "cell_type": "code",
   "execution_count": 49,
   "id": "1d11ed0d",
   "metadata": {},
   "outputs": [],
   "source": [
    "x=df_new.drop(['salary'],axis=1)\n",
    "y = df_new.iloc[:,1]"
   ]
  },
  {
   "cell_type": "markdown",
   "id": "638fcd8e",
   "metadata": {},
   "source": [
    "Transformation to remove all skewness"
   ]
  },
  {
   "cell_type": "code",
   "execution_count": 50,
   "id": "4f790c2f",
   "metadata": {},
   "outputs": [
    {
     "data": {
      "text/plain": [
       "yrs.service    0.588861\n",
       "salary         0.581098\n",
       "dtype: float64"
      ]
     },
     "execution_count": 50,
     "metadata": {},
     "output_type": "execute_result"
    }
   ],
   "source": [
    "df_new.skew()"
   ]
  },
  {
   "cell_type": "code",
   "execution_count": 51,
   "id": "707e332b",
   "metadata": {},
   "outputs": [
    {
     "data": {
      "text/plain": [
       "array([[ 2.68885831e-01,  9.62915374e-01],\n",
       "       [ 1.20900603e-01,  1.76699933e+00],\n",
       "       [-1.28449532e+00, -1.25634534e+00],\n",
       "       [ 1.46109915e+00,  2.11371205e-01],\n",
       "       [ 1.55315864e+00,  1.01020622e+00],\n",
       "       [-8.40053119e-01, -4.61859092e-01],\n",
       "       [ 6.03379808e-01,  1.80513534e+00],\n",
       "       [ 1.72997607e+00,  1.17420107e+00],\n",
       "       [ 4.08142448e-01,  3.52843452e-01],\n",
       "       [ 2.68885831e-01,  6.56774129e-01],\n",
       "       [-6.03480739e-01,  3.70730956e-01],\n",
       "       [-1.47508922e+00, -1.25376757e+00],\n",
       "       [-1.70716059e+00, -1.36364922e+00],\n",
       "       [-2.02223253e+00, -1.34774601e+00],\n",
       "       [ 2.68885831e-01, -1.53983281e-01],\n",
       "       [-1.28449532e+00,  2.83670548e-01],\n",
       "       [ 4.08142448e-01, -3.00587849e-01],\n",
       "       [ 1.21866709e+00, -2.05362588e-01],\n",
       "       [ 6.03379808e-01,  5.27625004e-01],\n",
       "       [ 1.31789249e+00,  8.87220841e-01],\n",
       "       [ 7.85006224e-01, -7.82800376e-01],\n",
       "       [ 1.06349813e+00, -2.38880223e-01],\n",
       "       [ 1.00992197e+00, -5.91975986e-01],\n",
       "       [ 3.39517545e-01,  1.45076367e-01],\n",
       "       [-6.03480739e-01, -1.51942030e+00],\n",
       "       [-6.03480739e-01, -9.79954323e-02],\n",
       "       [ 6.03379808e-01,  8.27817289e-01],\n",
       "       [-1.28449532e+00, -1.12324587e+00],\n",
       "       [-2.02223253e+00, -1.40103042e+00],\n",
       "       [-6.03480739e-01,  3.19189554e-01],\n",
       "       [-1.11979784e+00,  7.52624847e-01],\n",
       "       [-1.47508922e+00, -1.24779421e+00],\n",
       "       [-4.96555142e-01,  2.87195885e-01],\n",
       "       [-1.47508922e+00, -1.23193053e+00],\n",
       "       [-1.47508922e+00, -1.23193053e+00],\n",
       "       [-2.02223253e+00, -1.40103042e+00],\n",
       "       [ 4.74909228e-01,  1.37209184e+00],\n",
       "       [-1.11979784e+00, -9.30034679e-01],\n",
       "       [ 1.06349813e+00,  5.41411805e-01],\n",
       "       [-4.96555142e-01, -3.03031676e-01],\n",
       "       [-1.47508922e+00,  1.14173430e+00],\n",
       "       [ 6.03379808e-01, -6.12844795e-01],\n",
       "       [ 8.42943466e-01, -2.88826246e-01],\n",
       "       [ 3.39517545e-01, -5.71485273e-01],\n",
       "       [ 4.31295271e-02,  2.03818259e-01],\n",
       "       [ 8.99700376e-01, -4.12978328e-01],\n",
       "       [ 3.39517545e-01,  1.27488988e+00],\n",
       "       [ 7.25818974e-01,  9.72318781e-01],\n",
       "       [-1.70716059e+00, -1.75192816e+00],\n",
       "       [ 8.99700376e-01,  5.85089314e-01],\n",
       "       [-2.99861445e-01, -3.35309429e-03],\n",
       "       [-1.28449532e+00, -1.52708118e+00],\n",
       "       [-4.96555142e-01, -8.51939202e-02],\n",
       "       [-2.99861445e-01, -1.93497068e-01],\n",
       "       [-9.73174329e-01, -1.04843317e+00],\n",
       "       [ 4.74909228e-01,  3.02055419e-01],\n",
       "       [-6.03480739e-01, -7.53551234e-01],\n",
       "       [-4.96555142e-01, -3.34838594e-01],\n",
       "       [-1.28449532e+00, -1.50757217e+00],\n",
       "       [-6.03480739e-01, -7.49565049e-01],\n",
       "       [-1.47508922e+00, -1.49658901e+00],\n",
       "       [ 1.06349813e+00,  2.94074977e-02],\n",
       "       [-2.99861445e-01, -1.99118578e-01],\n",
       "       [-1.28449532e+00, -1.89435671e+00],\n",
       "       [-6.03480739e-01, -3.19473339e-01],\n",
       "       [-2.08590295e-01, -3.00587849e-01],\n",
       "       [ 1.06349813e+00, -3.63485644e-01],\n",
       "       [ 1.96078124e-01,  9.07381912e-02],\n",
       "       [ 1.31789249e+00, -7.00310875e-01],\n",
       "       [-1.47508922e+00,  5.75910215e-01],\n",
       "       [ 1.72997607e+00,  1.15090340e+00],\n",
       "       [ 3.39517545e-01, -3.34997761e-01],\n",
       "       [ 1.21866709e+00, -6.57353958e-01],\n",
       "       [ 6.03379808e-01,  1.56491019e-01],\n",
       "       [-1.28449532e+00, -1.60720083e+00],\n",
       "       [-1.28449532e+00,  1.24282588e+00],\n",
       "       [ 3.39517545e-01,  2.16354780e+00],\n",
       "       [-1.70716059e+00, -9.42914054e-01],\n",
       "       [-1.47508922e+00, -1.03192105e+00],\n",
       "       [ 8.99700376e-01,  1.24939846e+00],\n",
       "       [ 1.20900603e-01,  8.47594857e-01],\n",
       "       [ 4.08142448e-01,  1.09341185e+00],\n",
       "       [-1.47508922e+00, -8.16395277e-01],\n",
       "       [ 2.68885831e-01,  4.71721706e-01],\n",
       "       [-3.74955871e-02,  7.68929222e-01],\n",
       "       [ 1.36634754e+00,  1.29809552e+00],\n",
       "       [-1.47508922e+00, -8.35834148e-01],\n",
       "       [ 7.25818974e-01,  1.74716125e+00],\n",
       "       [-7.17494864e-01, -7.15539960e-02],\n",
       "       [-9.73174329e-01, -4.60539033e-01],\n",
       "       [-7.17494864e-01, -1.41613850e-01],\n",
       "       [-7.17494864e-01, -1.22730053e-01],\n",
       "       [ 1.41407334e+00,  1.61034442e+00],\n",
       "       [ 4.08142448e-01,  4.94412584e-01],\n",
       "       [-2.02223253e+00, -1.04356876e+00],\n",
       "       [-2.08590295e-01, -5.19641061e-01],\n",
       "       [-7.17494864e-01,  6.76869031e-01],\n",
       "       [-3.74955871e-02, -2.52261502e-01],\n",
       "       [ 7.85006224e-01, -8.33425445e-02],\n",
       "       [ 7.25818974e-01,  7.80214939e-01],\n",
       "       [ 6.03379808e-01,  5.94577655e-01],\n",
       "       [-9.73174329e-01,  1.31270023e+00],\n",
       "       [-3.74955871e-02,  6.12115609e-01],\n",
       "       [-3.95628657e-01, -1.05086786e+00],\n",
       "       [ 8.99700376e-01,  1.61494584e-01],\n",
       "       [-6.03480739e-01, -1.13718961e+00],\n",
       "       [-6.03480739e-01, -1.11227835e+00],\n",
       "       [-6.03480739e-01, -1.16720208e+00],\n",
       "       [ 1.06349813e+00,  7.21883378e-01],\n",
       "       [ 1.20900603e-01,  1.22865133e-01],\n",
       "       [ 1.20900603e-01, -1.13713971e+00],\n",
       "       [-1.70716059e+00, -1.65097554e+00],\n",
       "       [ 1.36634754e+00, -1.73722036e-01],\n",
       "       [-2.02223253e+00, -1.46435706e-01],\n",
       "       [-4.96555142e-01,  4.03207990e-01],\n",
       "       [ 9.55340497e-01,  1.19292002e+00],\n",
       "       [ 1.31789249e+00,  2.95794426e-01],\n",
       "       [-1.70716059e+00, -1.65097554e+00],\n",
       "       [-1.28449532e+00, -1.59393231e+00],\n",
       "       [-3.74955871e-02,  2.21992000e-01],\n",
       "       [ 1.11611808e+00,  5.13937428e-01],\n",
       "       [ 5.39949372e-01, -4.51065683e-01],\n",
       "       [ 5.39949372e-01, -2.24999619e+00],\n",
       "       [ 5.39949372e-01, -4.77821506e-01],\n",
       "       [ 1.89813923e+00, -1.33918723e+00],\n",
       "       [ 7.85006224e-01,  1.36607297e+00],\n",
       "       [-2.02223253e+00, -1.65097554e+00],\n",
       "       [ 1.00992197e+00,  1.52344621e-01],\n",
       "       [-1.47508922e+00, -1.62234262e+00],\n",
       "       [-4.96555142e-01, -1.09246314e+00],\n",
       "       [-6.03480739e-01, -1.37429028e+00],\n",
       "       [-1.70716059e+00, -1.65097554e+00],\n",
       "       [ 7.25818974e-01,  1.66822131e+00],\n",
       "       [ 2.68885831e-01,  8.59265270e-01],\n",
       "       [-3.74955871e-02, -2.55978771e-02],\n",
       "       [-3.74955871e-02, -1.21345034e-01],\n",
       "       [-7.17494864e-01, -1.57265617e+00],\n",
       "       [ 2.68885831e-01,  1.29701293e+00],\n",
       "       [-6.03480739e-01, -3.36151939e-01],\n",
       "       [-3.95628657e-01, -1.16720208e+00],\n",
       "       [-2.99861445e-01, -8.63422699e-02],\n",
       "       [-1.28449532e+00, -7.65806531e-01],\n",
       "       [ 8.42943466e-01,  1.32163336e-01],\n",
       "       [ 8.99700376e-01,  3.45171924e-01],\n",
       "       [-1.11979784e+00, -6.74447903e-01],\n",
       "       [ 8.42943466e-01,  1.40054381e+00],\n",
       "       [ 7.85006224e-01,  1.09369970e+00],\n",
       "       [-1.28449532e+00, -5.42025921e-01],\n",
       "       [-2.08590295e-01,  6.31275814e-01],\n",
       "       [-1.11979784e+00, -6.74447903e-01],\n",
       "       [-4.96555142e-01,  7.86084790e-02],\n",
       "       [-3.95628657e-01, -1.84567237e-01],\n",
       "       [-2.02223253e+00, -6.74447903e-01],\n",
       "       [ 4.74909228e-01,  3.43733634e-01],\n",
       "       [ 2.68885831e-01,  1.54522104e-01],\n",
       "       [-2.02223253e+00, -8.54227086e-01],\n",
       "       [-8.40053119e-01, -5.28165867e-01],\n",
       "       [ 1.20900603e-01,  8.91866759e-01],\n",
       "       [-1.47508922e+00, -7.85015109e-01],\n",
       "       [ 3.39517545e-01,  1.83657547e+00],\n",
       "       [-7.17494864e-01, -4.00103630e-01],\n",
       "       [-1.28449532e+00, -7.65806531e-01],\n",
       "       [-2.02223253e+00, -8.17763953e-01],\n",
       "       [-6.03480739e-01, -1.13046509e-01],\n",
       "       [ 1.20900603e-01,  1.63840279e+00],\n",
       "       [ 3.39517545e-01,  7.06024781e-01],\n",
       "       [-8.40053119e-01, -2.92323051e-01],\n",
       "       [ 2.68885831e-01,  1.93430423e+00],\n",
       "       [-9.73174329e-01, -7.08487259e-01],\n",
       "       [ 3.39517545e-01,  1.27010505e+00],\n",
       "       [ 6.65305055e-01, -6.23800822e-01],\n",
       "       [ 4.08142448e-01,  8.07922416e-01],\n",
       "       [-8.40053119e-01, -1.46435706e-01],\n",
       "       [ 7.25818974e-01,  9.91404445e-02],\n",
       "       [-7.17494864e-01, -5.26988804e-01],\n",
       "       [-4.96555142e-01, -3.02795102e-01],\n",
       "       [-3.74955871e-02,  1.16355932e+00],\n",
       "       [-1.28449532e+00, -6.74447903e-01],\n",
       "       [-2.99861445e-01,  1.03605279e+00],\n",
       "       [-9.73174329e-01,  1.00042482e+00],\n",
       "       [-6.03480739e-01, -3.40214492e-01],\n",
       "       [ 5.39949372e-01,  1.23079649e+00],\n",
       "       [ 6.03379808e-01, -3.00587849e-01],\n",
       "       [ 1.00992197e+00,  8.02644723e-01],\n",
       "       [-3.95628657e-01, -1.93879196e-01],\n",
       "       [-3.95628657e-01, -5.34505723e-02],\n",
       "       [ 8.99700376e-01, -9.77723929e-02],\n",
       "       [ 3.39517545e-01,  1.32362975e+00],\n",
       "       [-4.96555142e-01,  1.90876679e+00],\n",
       "       [ 5.39949372e-01,  7.94068628e-01],\n",
       "       [ 2.68885831e-01,  4.44532370e-01],\n",
       "       [ 3.39517545e-01, -9.35831724e-01],\n",
       "       [ 2.05871693e+00, -7.63199298e-01],\n",
       "       [-7.17494864e-01,  1.63459509e-01],\n",
       "       [-1.11979784e+00, -6.43903143e-01],\n",
       "       [-1.11979784e+00, -6.74447903e-01],\n",
       "       [ 1.16782711e+00,  2.09517057e+00],\n",
       "       [ 5.39949372e-01,  1.94336556e-01],\n",
       "       [-1.11979784e+00, -6.43903143e-01],\n",
       "       [ 1.50745235e+00,  3.67485651e-01],\n",
       "       [ 1.96078124e-01,  1.48207731e+00],\n",
       "       [ 1.96078124e-01,  1.29297470e+00],\n",
       "       [-9.73174329e-01,  1.58736209e+00],\n",
       "       [-1.47508922e+00, -4.80682546e-01],\n",
       "       [ 1.16782711e+00,  1.52368057e+00],\n",
       "       [ 2.68885831e-01,  3.77212313e-01],\n",
       "       [-1.47508922e+00, -7.05258647e-01],\n",
       "       [ 4.08142448e-01,  1.54656679e+00],\n",
       "       [-1.28449532e+00, -7.18545758e-01],\n",
       "       [ 1.46109915e+00,  8.50312627e-02],\n",
       "       [-7.17494864e-01,  6.38837640e-01],\n",
       "       [ 3.39517545e-01,  5.72243822e-01],\n",
       "       [-1.70716059e+00,  3.34861692e-01],\n",
       "       [-2.99861445e-01,  1.11194063e+00],\n",
       "       [-2.99861445e-01,  1.12881340e+00],\n",
       "       [ 5.39949372e-01, -1.33266785e-01],\n",
       "       [-7.17494864e-01,  2.45669979e-02],\n",
       "       [-2.99861445e-01,  3.60985765e-01],\n",
       "       [ 4.74909228e-01,  1.69807363e+00],\n",
       "       [-3.95628657e-01,  1.10803470e+00],\n",
       "       [-8.40053119e-01, -6.63193027e-02],\n",
       "       [ 4.08142448e-01,  6.74615804e-01],\n",
       "       [ 1.26867686e+00, -8.63459316e-01],\n",
       "       [ 4.08142448e-01,  4.54041739e-01],\n",
       "       [-1.70716059e+00, -2.18192878e+00],\n",
       "       [-7.17494864e-01, -1.79759724e+00],\n",
       "       [-2.99861445e-01, -8.46168478e-01],\n",
       "       [ 1.41407334e+00,  7.99788458e-01],\n",
       "       [ 8.42943466e-01, -7.18545758e-01],\n",
       "       [ 6.65305055e-01, -1.60526993e+00],\n",
       "       [ 3.39517545e-01,  1.19926296e+00],\n",
       "       [ 3.39517545e-01,  2.97120461e-01],\n",
       "       [-1.28449532e+00, -1.81559203e+00],\n",
       "       [ 1.96078124e-01, -1.15715335e+00],\n",
       "       [ 7.25818974e-01,  1.77216930e-01],\n",
       "       [-8.40053119e-01, -2.23542077e+00],\n",
       "       [ 1.50745235e+00, -1.39020365e+00],\n",
       "       [-8.40053119e-01, -4.95022786e-01],\n",
       "       [-1.28449532e+00, -1.84578036e+00],\n",
       "       [ 1.00992197e+00,  4.69044053e-01],\n",
       "       [ 1.36634754e+00, -2.38106070e-01],\n",
       "       [ 6.03379808e-01, -2.78557464e-02],\n",
       "       [ 6.03379808e-01, -1.03032244e+00],\n",
       "       [-2.99861445e-01, -7.43035600e-01],\n",
       "       [ 6.03379808e-01, -7.14111182e-01],\n",
       "       [ 2.68885831e-01, -2.96649791e-01],\n",
       "       [ 6.03379808e-01,  6.50805881e-01],\n",
       "       [-7.17494864e-01,  2.36430792e+00],\n",
       "       [ 1.46109915e+00,  1.16543617e-03],\n",
       "       [-6.03480739e-01, -2.61405782e-01],\n",
       "       [-2.08590295e-01,  7.45052901e-01],\n",
       "       [-1.47508922e+00, -1.37429028e+00],\n",
       "       [-7.17494864e-01,  2.60298382e-01],\n",
       "       [-6.03480739e-01, -1.09251242e+00],\n",
       "       [ 5.39949372e-01,  9.77850594e-01],\n",
       "       [ 6.03379808e-01, -1.56574138e+00],\n",
       "       [-1.28449532e+00, -1.57699163e+00],\n",
       "       [ 1.00992197e+00, -6.50426273e-01],\n",
       "       [ 1.16782711e+00, -8.26673209e-01],\n",
       "       [ 1.72997607e+00, -5.16160802e-02],\n",
       "       [ 7.85006224e-01,  4.15843732e-01],\n",
       "       [ 1.06349813e+00,  5.66124330e-01],\n",
       "       [ 1.26867686e+00, -3.80295280e-01],\n",
       "       [ 1.00992197e+00,  8.25407766e-01],\n",
       "       [ 1.64272548e+00,  1.07504229e+00],\n",
       "       [-3.95628657e-01, -1.71025504e-01],\n",
       "       [ 1.68663008e+00, -7.78961764e-01],\n",
       "       [-7.17494864e-01, -1.95790465e-01],\n",
       "       [ 1.50745235e+00,  1.05683525e+00],\n",
       "       [ 2.68885831e-01,  2.19727877e+00],\n",
       "       [-1.70716059e+00, -1.62234262e+00],\n",
       "       [-1.11979784e+00, -1.56574138e+00],\n",
       "       [-1.28449532e+00, -1.32139493e+00],\n",
       "       [-8.40053119e-01, -6.30892891e-01],\n",
       "       [ 1.85684746e+00, -6.44779824e-02],\n",
       "       [ 8.42943466e-01,  1.54656679e+00],\n",
       "       [ 2.68885831e-01, -6.81616024e-02],\n",
       "       [ 1.77278246e+00, -3.16384628e-01],\n",
       "       [ 1.41407334e+00,  8.73272227e-01],\n",
       "       [ 8.42943466e-01, -1.99616155e-01],\n",
       "       [ 1.97931794e+00, -2.61053776e+00],\n",
       "       [ 1.64272548e+00,  1.37485682e+00],\n",
       "       [-8.40053119e-01, -8.24386656e-01],\n",
       "       [ 1.89813923e+00, -1.15213949e+00],\n",
       "       [ 8.42943466e-01,  2.38451857e-01],\n",
       "       [-2.02223253e+00, -9.95284592e-01],\n",
       "       [ 8.42943466e-01,  1.24332616e+00],\n",
       "       [-9.73174329e-01, -1.56574138e+00],\n",
       "       [-7.17494864e-01,  1.79458700e+00],\n",
       "       [ 8.99700376e-01,  1.66525393e+00],\n",
       "       [-4.96555142e-01,  1.98535667e+00],\n",
       "       [-1.70716059e+00, -1.53983281e-01],\n",
       "       [-7.17494864e-01, -6.07982759e-02],\n",
       "       [ 1.31789249e+00, -4.55675601e-01],\n",
       "       [ 2.68885831e-01,  5.75299425e-01],\n",
       "       [-2.99861445e-01,  1.20053009e+00],\n",
       "       [ 1.64272548e+00, -1.66249177e+00],\n",
       "       [ 1.46109915e+00, -1.75594894e+00],\n",
       "       [ 1.31789249e+00, -8.26673209e-01],\n",
       "       [ 1.20900603e-01,  5.99645438e-01],\n",
       "       [-1.21280920e-01,  1.70894027e+00],\n",
       "       [-1.11979784e+00, -1.36648312e-01],\n",
       "       [ 1.68663008e+00,  1.07793567e+00],\n",
       "       [ 1.06349813e+00,  8.50312627e-02],\n",
       "       [-1.11979784e+00, -1.53776667e+00],\n",
       "       [ 8.99700376e-01,  4.57205628e-01],\n",
       "       [-2.02223253e+00, -1.56574138e+00],\n",
       "       [ 4.31295271e-02,  1.62765339e+00],\n",
       "       [-7.17494864e-01, -6.72257365e-01],\n",
       "       [-4.96555142e-01, -3.15005794e-02],\n",
       "       [ 3.39517545e-01, -5.72932787e-01],\n",
       "       [ 1.26867686e+00, -3.26254311e-01],\n",
       "       [-8.40053119e-01,  1.14946275e+00],\n",
       "       [-1.28449532e+00, -1.00893122e+00],\n",
       "       [-4.96555142e-01, -1.73441829e+00],\n",
       "       [ 1.72997607e+00, -1.94663323e+00],\n",
       "       [ 1.20900603e-01,  8.18310888e-01],\n",
       "       [ 4.31295271e-02,  8.31838752e-01],\n",
       "       [ 6.03379808e-01, -1.68065526e-01],\n",
       "       [-4.96555142e-01, -5.18341058e-01],\n",
       "       [-2.99861445e-01,  5.79298096e-01],\n",
       "       [ 4.31295271e-02,  1.49834242e+00],\n",
       "       [ 1.06349813e+00,  1.52416283e+00],\n",
       "       [-1.11979784e+00, -1.01934529e+00],\n",
       "       [ 4.31295271e-02,  5.26509719e-01],\n",
       "       [ 1.36634754e+00,  1.27196527e+00],\n",
       "       [-3.95628657e-01, -3.70352561e-01],\n",
       "       [ 6.03379808e-01,  8.24783843e-01],\n",
       "       [-4.96555142e-01,  2.62575832e-01],\n",
       "       [-3.95628657e-01, -1.29513392e-01],\n",
       "       [ 3.39517545e-01,  1.10537605e+00],\n",
       "       [-8.40053119e-01, -1.63743932e-01],\n",
       "       [ 1.41407334e+00,  1.26687820e+00],\n",
       "       [ 6.03379808e-01, -4.18679400e-01],\n",
       "       [-2.08590295e-01,  1.10281964e+00],\n",
       "       [ 7.25818974e-01,  6.40755412e-01],\n",
       "       [ 4.31295271e-02,  8.96034247e-01],\n",
       "       [-2.99861445e-01, -1.00338212e-01],\n",
       "       [ 1.96078124e-01,  5.14030727e-01],\n",
       "       [ 1.41407334e+00,  1.97613776e-01],\n",
       "       [ 1.06349813e+00,  1.52253204e+00],\n",
       "       [ 1.26867686e+00,  1.24022323e+00],\n",
       "       [-3.95628657e-01, -3.56603787e-02],\n",
       "       [ 8.42943466e-01,  1.02421019e+00],\n",
       "       [ 1.16782711e+00,  6.34338593e-01],\n",
       "       [-1.28449532e+00, -1.23633866e+00],\n",
       "       [ 8.99700376e-01,  1.08473832e+00],\n",
       "       [ 1.89813923e+00,  2.04768566e+00],\n",
       "       [ 1.41407334e+00, -6.08497693e-01],\n",
       "       [ 8.42943466e-01,  1.03693130e+00],\n",
       "       [ 4.08142448e-01,  9.14944849e-01],\n",
       "       [-1.70716059e+00, -1.06306614e+00],\n",
       "       [ 4.74909228e-01,  1.10355025e+00],\n",
       "       [ 1.50745235e+00, -8.21690412e-01],\n",
       "       [ 1.26867686e+00, -6.04672940e-02],\n",
       "       [-3.74955871e-02,  3.54575350e-02],\n",
       "       [-1.11979784e+00, -1.30646025e+00],\n",
       "       [-2.99861445e-01,  4.39640548e-01],\n",
       "       [ 4.31295271e-02,  2.44234721e-02],\n",
       "       [ 1.00992197e+00,  9.36164224e-01],\n",
       "       [ 1.96078124e-01, -1.17803585e+00],\n",
       "       [ 1.50745235e+00, -2.99169636e-01],\n",
       "       [-3.95628657e-01,  2.26122840e-01],\n",
       "       [-1.70716059e+00, -2.01050314e-02],\n",
       "       [ 1.00992197e+00,  7.43600390e-01],\n",
       "       [ 1.06349813e+00,  8.22286989e-01],\n",
       "       [-6.03480739e-01, -1.33813199e+00],\n",
       "       [ 4.08142448e-01,  5.54650850e-02],\n",
       "       [-7.17494864e-01,  2.66115923e-02],\n",
       "       [ 7.85006224e-01,  8.77742109e-01],\n",
       "       [ 3.39517545e-01, -2.12078772e-01],\n",
       "       [ 7.85006224e-01, -1.97741042e-01],\n",
       "       [-1.70716059e+00, -1.51797875e+00],\n",
       "       [-1.28449532e+00, -1.39668511e+00],\n",
       "       [ 1.41407334e+00,  1.24782523e+00],\n",
       "       [-6.03480739e-01, -1.79730285e-01],\n",
       "       [-1.28449532e+00, -1.45532720e+00],\n",
       "       [ 6.03379808e-01,  1.75215357e+00],\n",
       "       [-9.73174329e-01, -9.05536831e-01],\n",
       "       [ 1.68663008e+00, -1.46435706e-01],\n",
       "       [ 4.74909228e-01,  5.41288405e-01],\n",
       "       [-4.96555142e-01,  1.88525457e-01],\n",
       "       [ 8.42943466e-01,  9.48432413e-01],\n",
       "       [ 4.31295271e-02,  1.21659149e-02],\n",
       "       [ 1.31789249e+00,  3.59358856e-01],\n",
       "       [ 2.68885831e-01,  2.02932989e+00],\n",
       "       [ 3.39517545e-01,  1.62331249e+00],\n",
       "       [ 3.39517545e-01,  1.26307639e+00],\n",
       "       [ 1.00992197e+00, -2.18577007e-01],\n",
       "       [ 3.39517545e-01,  1.24492653e+00],\n",
       "       [ 7.25818974e-01, -2.71629027e-01],\n",
       "       [ 4.31295271e-02, -5.31488991e-01],\n",
       "       [-1.11979784e+00, -1.19067440e+00]])"
      ]
     },
     "execution_count": 51,
     "metadata": {},
     "output_type": "execute_result"
    }
   ],
   "source": [
    "from sklearn.preprocessing  import power_transform\n",
    "x=power_transform(df_new,method='yeo-johnson')\n",
    "x"
   ]
  },
  {
   "cell_type": "markdown",
   "id": "5ce4f722",
   "metadata": {},
   "source": [
    "as we can see that the rank after tranformation also giving us high skeness with negativity and its contribution is also less to the output so we are dropping the"
   ]
  },
  {
   "cell_type": "markdown",
   "id": "4ab44bdb",
   "metadata": {},
   "source": [
    "Plotting the Normal distribution plots"
   ]
  },
  {
   "cell_type": "code",
   "execution_count": 52,
   "id": "3cc498f0",
   "metadata": {},
   "outputs": [
    {
     "data": {
      "image/png": "[encoded data removed]",
      "text/plain": [
       "<Figure size 432x288 with 1 Axes>"
      ]
     },
     "metadata": {},
     "output_type": "display_data"
    }
   ],
   "source": [
    "sns.distplot(x[0], color='green')\n",
    "plt.title(\"years of service\")\n",
    "plt.show()"
   ]
  },
  {
   "cell_type": "markdown",
   "id": "a6876b9c",
   "metadata": {},
   "source": [
    "so we can see that all the colummn which has little of skewness present is now changed to normal distribution plot"
   ]
  },
  {
   "cell_type": "markdown",
   "id": "a8758e00",
   "metadata": {},
   "source": [
    "Feature Scaling using Standard Scaler"
   ]
  },
  {
   "cell_type": "code",
   "execution_count": 53,
   "id": "d8dea96f",
   "metadata": {},
   "outputs": [
    {
     "data": {
      "text/plain": [
       "array([[ 2.68885831e-01,  9.62915374e-01],\n",
       "       [ 1.20900603e-01,  1.76699933e+00],\n",
       "       [-1.28449532e+00, -1.25634534e+00],\n",
       "       [ 1.46109915e+00,  2.11371205e-01],\n",
       "       [ 1.55315864e+00,  1.01020622e+00],\n",
       "       [-8.40053119e-01, -4.61859092e-01],\n",
       "       [ 6.03379808e-01,  1.80513534e+00],\n",
       "       [ 1.72997607e+00,  1.17420107e+00],\n",
       "       [ 4.08142448e-01,  3.52843452e-01],\n",
       "       [ 2.68885831e-01,  6.56774129e-01],\n",
       "       [-6.03480739e-01,  3.70730956e-01],\n",
       "       [-1.47508922e+00, -1.25376757e+00],\n",
       "       [-1.70716059e+00, -1.36364922e+00],\n",
       "       [-2.02223253e+00, -1.34774601e+00],\n",
       "       [ 2.68885831e-01, -1.53983281e-01],\n",
       "       [-1.28449532e+00,  2.83670548e-01],\n",
       "       [ 4.08142448e-01, -3.00587849e-01],\n",
       "       [ 1.21866709e+00, -2.05362588e-01],\n",
       "       [ 6.03379808e-01,  5.27625004e-01],\n",
       "       [ 1.31789249e+00,  8.87220841e-01],\n",
       "       [ 7.85006224e-01, -7.82800376e-01],\n",
       "       [ 1.06349813e+00, -2.38880223e-01],\n",
       "       [ 1.00992197e+00, -5.91975986e-01],\n",
       "       [ 3.39517545e-01,  1.45076367e-01],\n",
       "       [-6.03480739e-01, -1.51942030e+00],\n",
       "       [-6.03480739e-01, -9.79954323e-02],\n",
       "       [ 6.03379808e-01,  8.27817289e-01],\n",
       "       [-1.28449532e+00, -1.12324587e+00],\n",
       "       [-2.02223253e+00, -1.40103042e+00],\n",
       "       [-6.03480739e-01,  3.19189554e-01],\n",
       "       [-1.11979784e+00,  7.52624847e-01],\n",
       "       [-1.47508922e+00, -1.24779421e+00],\n",
       "       [-4.96555142e-01,  2.87195885e-01],\n",
       "       [-1.47508922e+00, -1.23193053e+00],\n",
       "       [-1.47508922e+00, -1.23193053e+00],\n",
       "       [-2.02223253e+00, -1.40103042e+00],\n",
       "       [ 4.74909228e-01,  1.37209184e+00],\n",
       "       [-1.11979784e+00, -9.30034679e-01],\n",
       "       [ 1.06349813e+00,  5.41411805e-01],\n",
       "       [-4.96555142e-01, -3.03031676e-01],\n",
       "       [-1.47508922e+00,  1.14173430e+00],\n",
       "       [ 6.03379808e-01, -6.12844795e-01],\n",
       "       [ 8.42943466e-01, -2.88826246e-01],\n",
       "       [ 3.39517545e-01, -5.71485273e-01],\n",
       "       [ 4.31295271e-02,  2.03818259e-01],\n",
       "       [ 8.99700376e-01, -4.12978328e-01],\n",
       "       [ 3.39517545e-01,  1.27488988e+00],\n",
       "       [ 7.25818974e-01,  9.72318781e-01],\n",
       "       [-1.70716059e+00, -1.75192816e+00],\n",
       "       [ 8.99700376e-01,  5.85089314e-01],\n",
       "       [-2.99861445e-01, -3.35309429e-03],\n",
       "       [-1.28449532e+00, -1.52708118e+00],\n",
       "       [-4.96555142e-01, -8.51939202e-02],\n",
       "       [-2.99861445e-01, -1.93497068e-01],\n",
       "       [-9.73174329e-01, -1.04843317e+00],\n",
       "       [ 4.74909228e-01,  3.02055419e-01],\n",
       "       [-6.03480739e-01, -7.53551234e-01],\n",
       "       [-4.96555142e-01, -3.34838594e-01],\n",
       "       [-1.28449532e+00, -1.50757217e+00],\n",
       "       [-6.03480739e-01, -7.49565049e-01],\n",
       "       [-1.47508922e+00, -1.49658901e+00],\n",
       "       [ 1.06349813e+00,  2.94074977e-02],\n",
       "       [-2.99861445e-01, -1.99118578e-01],\n",
       "       [-1.28449532e+00, -1.89435671e+00],\n",
       "       [-6.03480739e-01, -3.19473339e-01],\n",
       "       [-2.08590295e-01, -3.00587849e-01],\n",
       "       [ 1.06349813e+00, -3.63485644e-01],\n",
       "       [ 1.96078124e-01,  9.07381912e-02],\n",
       "       [ 1.31789249e+00, -7.00310875e-01],\n",
       "       [-1.47508922e+00,  5.75910215e-01],\n",
       "       [ 1.72997607e+00,  1.15090340e+00],\n",
       "       [ 3.39517545e-01, -3.34997761e-01],\n",
       "       [ 1.21866709e+00, -6.57353958e-01],\n",
       "       [ 6.03379808e-01,  1.56491019e-01],\n",
       "       [-1.28449532e+00, -1.60720083e+00],\n",
       "       [-1.28449532e+00,  1.24282588e+00],\n",
       "       [ 3.39517545e-01,  2.16354780e+00],\n",
       "       [-1.70716059e+00, -9.42914054e-01],\n",
       "       [-1.47508922e+00, -1.03192105e+00],\n",
       "       [ 8.99700376e-01,  1.24939846e+00],\n",
       "       [ 1.20900603e-01,  8.47594857e-01],\n",
       "       [ 4.08142448e-01,  1.09341185e+00],\n",
       "       [-1.47508922e+00, -8.16395277e-01],\n",
       "       [ 2.68885831e-01,  4.71721706e-01],\n",
       "       [-3.74955871e-02,  7.68929222e-01],\n",
       "       [ 1.36634754e+00,  1.29809552e+00],\n",
       "       [-1.47508922e+00, -8.35834148e-01],\n",
       "       [ 7.25818974e-01,  1.74716125e+00],\n",
       "       [-7.17494864e-01, -7.15539960e-02],\n",
       "       [-9.73174329e-01, -4.60539033e-01],\n",
       "       [-7.17494864e-01, -1.41613850e-01],\n",
       "       [-7.17494864e-01, -1.22730053e-01],\n",
       "       [ 1.41407334e+00,  1.61034442e+00],\n",
       "       [ 4.08142448e-01,  4.94412584e-01],\n",
       "       [-2.02223253e+00, -1.04356876e+00],\n",
       "       [-2.08590295e-01, -5.19641061e-01],\n",
       "       [-7.17494864e-01,  6.76869031e-01],\n",
       "       [-3.74955871e-02, -2.52261502e-01],\n",
       "       [ 7.85006224e-01, -8.33425445e-02],\n",
       "       [ 7.25818974e-01,  7.80214939e-01],\n",
       "       [ 6.03379808e-01,  5.94577655e-01],\n",
       "       [-9.73174329e-01,  1.31270023e+00],\n",
       "       [-3.74955871e-02,  6.12115609e-01],\n",
       "       [-3.95628657e-01, -1.05086786e+00],\n",
       "       [ 8.99700376e-01,  1.61494584e-01],\n",
       "       [-6.03480739e-01, -1.13718961e+00],\n",
       "       [-6.03480739e-01, -1.11227835e+00],\n",
       "       [-6.03480739e-01, -1.16720208e+00],\n",
       "       [ 1.06349813e+00,  7.21883378e-01],\n",
       "       [ 1.20900603e-01,  1.22865133e-01],\n",
       "       [ 1.20900603e-01, -1.13713971e+00],\n",
       "       [-1.70716059e+00, -1.65097554e+00],\n",
       "       [ 1.36634754e+00, -1.73722036e-01],\n",
       "       [-2.02223253e+00, -1.46435706e-01],\n",
       "       [-4.96555142e-01,  4.03207990e-01],\n",
       "       [ 9.55340497e-01,  1.19292002e+00],\n",
       "       [ 1.31789249e+00,  2.95794426e-01],\n",
       "       [-1.70716059e+00, -1.65097554e+00],\n",
       "       [-1.28449532e+00, -1.59393231e+00],\n",
       "       [-3.74955871e-02,  2.21992000e-01],\n",
       "       [ 1.11611808e+00,  5.13937428e-01],\n",
       "       [ 5.39949372e-01, -4.51065683e-01],\n",
       "       [ 5.39949372e-01, -2.24999619e+00],\n",
       "       [ 5.39949372e-01, -4.77821506e-01],\n",
       "       [ 1.89813923e+00, -1.33918723e+00],\n",
       "       [ 7.85006224e-01,  1.36607297e+00],\n",
       "       [-2.02223253e+00, -1.65097554e+00],\n",
       "       [ 1.00992197e+00,  1.52344621e-01],\n",
       "       [-1.47508922e+00, -1.62234262e+00],\n",
       "       [-4.96555142e-01, -1.09246314e+00],\n",
       "       [-6.03480739e-01, -1.37429028e+00],\n",
       "       [-1.70716059e+00, -1.65097554e+00],\n",
       "       [ 7.25818974e-01,  1.66822131e+00],\n",
       "       [ 2.68885831e-01,  8.59265270e-01],\n",
       "       [-3.74955871e-02, -2.55978771e-02],\n",
       "       [-3.74955871e-02, -1.21345034e-01],\n",
       "       [-7.17494864e-01, -1.57265617e+00],\n",
       "       [ 2.68885831e-01,  1.29701293e+00],\n",
       "       [-6.03480739e-01, -3.36151939e-01],\n",
       "       [-3.95628657e-01, -1.16720208e+00],\n",
       "       [-2.99861445e-01, -8.63422699e-02],\n",
       "       [-1.28449532e+00, -7.65806531e-01],\n",
       "       [ 8.42943466e-01,  1.32163336e-01],\n",
       "       [ 8.99700376e-01,  3.45171924e-01],\n",
       "       [-1.11979784e+00, -6.74447903e-01],\n",
       "       [ 8.42943466e-01,  1.40054381e+00],\n",
       "       [ 7.85006224e-01,  1.09369970e+00],\n",
       "       [-1.28449532e+00, -5.42025921e-01],\n",
       "       [-2.08590295e-01,  6.31275814e-01],\n",
       "       [-1.11979784e+00, -6.74447903e-01],\n",
       "       [-4.96555142e-01,  7.86084790e-02],\n",
       "       [-3.95628657e-01, -1.84567237e-01],\n",
       "       [-2.02223253e+00, -6.74447903e-01],\n",
       "       [ 4.74909228e-01,  3.43733634e-01],\n",
       "       [ 2.68885831e-01,  1.54522104e-01],\n",
       "       [-2.02223253e+00, -8.54227086e-01],\n",
       "       [-8.40053119e-01, -5.28165867e-01],\n",
       "       [ 1.20900603e-01,  8.91866759e-01],\n",
       "       [-1.47508922e+00, -7.85015109e-01],\n",
       "       [ 3.39517545e-01,  1.83657547e+00],\n",
       "       [-7.17494864e-01, -4.00103630e-01],\n",
       "       [-1.28449532e+00, -7.65806531e-01],\n",
       "       [-2.02223253e+00, -8.17763953e-01],\n",
       "       [-6.03480739e-01, -1.13046509e-01],\n",
       "       [ 1.20900603e-01,  1.63840279e+00],\n",
       "       [ 3.39517545e-01,  7.06024781e-01],\n",
       "       [-8.40053119e-01, -2.92323051e-01],\n",
       "       [ 2.68885831e-01,  1.93430423e+00],\n",
       "       [-9.73174329e-01, -7.08487259e-01],\n",
       "       [ 3.39517545e-01,  1.27010505e+00],\n",
       "       [ 6.65305055e-01, -6.23800822e-01],\n",
       "       [ 4.08142448e-01,  8.07922416e-01],\n",
       "       [-8.40053119e-01, -1.46435706e-01],\n",
       "       [ 7.25818974e-01,  9.91404445e-02],\n",
       "       [-7.17494864e-01, -5.26988804e-01],\n",
       "       [-4.96555142e-01, -3.02795102e-01],\n",
       "       [-3.74955871e-02,  1.16355932e+00],\n",
       "       [-1.28449532e+00, -6.74447903e-01],\n",
       "       [-2.99861445e-01,  1.03605279e+00],\n",
       "       [-9.73174329e-01,  1.00042482e+00],\n",
       "       [-6.03480739e-01, -3.40214492e-01],\n",
       "       [ 5.39949372e-01,  1.23079649e+00],\n",
       "       [ 6.03379808e-01, -3.00587849e-01],\n",
       "       [ 1.00992197e+00,  8.02644723e-01],\n",
       "       [-3.95628657e-01, -1.93879196e-01],\n",
       "       [-3.95628657e-01, -5.34505723e-02],\n",
       "       [ 8.99700376e-01, -9.77723929e-02],\n",
       "       [ 3.39517545e-01,  1.32362975e+00],\n",
       "       [-4.96555142e-01,  1.90876679e+00],\n",
       "       [ 5.39949372e-01,  7.94068628e-01],\n",
       "       [ 2.68885831e-01,  4.44532370e-01],\n",
       "       [ 3.39517545e-01, -9.35831724e-01],\n",
       "       [ 2.05871693e+00, -7.63199298e-01],\n",
       "       [-7.17494864e-01,  1.63459509e-01],\n",
       "       [-1.11979784e+00, -6.43903143e-01],\n",
       "       [-1.11979784e+00, -6.74447903e-01],\n",
       "       [ 1.16782711e+00,  2.09517057e+00],\n",
       "       [ 5.39949372e-01,  1.94336556e-01],\n",
       "       [-1.11979784e+00, -6.43903143e-01],\n",
       "       [ 1.50745235e+00,  3.67485651e-01],\n",
       "       [ 1.96078124e-01,  1.48207731e+00],\n",
       "       [ 1.96078124e-01,  1.29297470e+00],\n",
       "       [-9.73174329e-01,  1.58736209e+00],\n",
       "       [-1.47508922e+00, -4.80682546e-01],\n",
       "       [ 1.16782711e+00,  1.52368057e+00],\n",
       "       [ 2.68885831e-01,  3.77212313e-01],\n",
       "       [-1.47508922e+00, -7.05258647e-01],\n",
       "       [ 4.08142448e-01,  1.54656679e+00],\n",
       "       [-1.28449532e+00, -7.18545758e-01],\n",
       "       [ 1.46109915e+00,  8.50312627e-02],\n",
       "       [-7.17494864e-01,  6.38837640e-01],\n",
       "       [ 3.39517545e-01,  5.72243822e-01],\n",
       "       [-1.70716059e+00,  3.34861692e-01],\n",
       "       [-2.99861445e-01,  1.11194063e+00],\n",
       "       [-2.99861445e-01,  1.12881340e+00],\n",
       "       [ 5.39949372e-01, -1.33266785e-01],\n",
       "       [-7.17494864e-01,  2.45669979e-02],\n",
       "       [-2.99861445e-01,  3.60985765e-01],\n",
       "       [ 4.74909228e-01,  1.69807363e+00],\n",
       "       [-3.95628657e-01,  1.10803470e+00],\n",
       "       [-8.40053119e-01, -6.63193027e-02],\n",
       "       [ 4.08142448e-01,  6.74615804e-01],\n",
       "       [ 1.26867686e+00, -8.63459316e-01],\n",
       "       [ 4.08142448e-01,  4.54041739e-01],\n",
       "       [-1.70716059e+00, -2.18192878e+00],\n",
       "       [-7.17494864e-01, -1.79759724e+00],\n",
       "       [-2.99861445e-01, -8.46168478e-01],\n",
       "       [ 1.41407334e+00,  7.99788458e-01],\n",
       "       [ 8.42943466e-01, -7.18545758e-01],\n",
       "       [ 6.65305055e-01, -1.60526993e+00],\n",
       "       [ 3.39517545e-01,  1.19926296e+00],\n",
       "       [ 3.39517545e-01,  2.97120461e-01],\n",
       "       [-1.28449532e+00, -1.81559203e+00],\n",
       "       [ 1.96078124e-01, -1.15715335e+00],\n",
       "       [ 7.25818974e-01,  1.77216930e-01],\n",
       "       [-8.40053119e-01, -2.23542077e+00],\n",
       "       [ 1.50745235e+00, -1.39020365e+00],\n",
       "       [-8.40053119e-01, -4.95022786e-01],\n",
       "       [-1.28449532e+00, -1.84578036e+00],\n",
       "       [ 1.00992197e+00,  4.69044053e-01],\n",
       "       [ 1.36634754e+00, -2.38106070e-01],\n",
       "       [ 6.03379808e-01, -2.78557464e-02],\n",
       "       [ 6.03379808e-01, -1.03032244e+00],\n",
       "       [-2.99861445e-01, -7.43035600e-01],\n",
       "       [ 6.03379808e-01, -7.14111182e-01],\n",
       "       [ 2.68885831e-01, -2.96649791e-01],\n",
       "       [ 6.03379808e-01,  6.50805881e-01],\n",
       "       [-7.17494864e-01,  2.36430792e+00],\n",
       "       [ 1.46109915e+00,  1.16543617e-03],\n",
       "       [-6.03480739e-01, -2.61405782e-01],\n",
       "       [-2.08590295e-01,  7.45052901e-01],\n",
       "       [-1.47508922e+00, -1.37429028e+00],\n",
       "       [-7.17494864e-01,  2.60298382e-01],\n",
       "       [-6.03480739e-01, -1.09251242e+00],\n",
       "       [ 5.39949372e-01,  9.77850594e-01],\n",
       "       [ 6.03379808e-01, -1.56574138e+00],\n",
       "       [-1.28449532e+00, -1.57699163e+00],\n",
       "       [ 1.00992197e+00, -6.50426273e-01],\n",
       "       [ 1.16782711e+00, -8.26673209e-01],\n",
       "       [ 1.72997607e+00, -5.16160802e-02],\n",
       "       [ 7.85006224e-01,  4.15843732e-01],\n",
       "       [ 1.06349813e+00,  5.66124330e-01],\n",
       "       [ 1.26867686e+00, -3.80295280e-01],\n",
       "       [ 1.00992197e+00,  8.25407766e-01],\n",
       "       [ 1.64272548e+00,  1.07504229e+00],\n",
       "       [-3.95628657e-01, -1.71025504e-01],\n",
       "       [ 1.68663008e+00, -7.78961764e-01],\n",
       "       [-7.17494864e-01, -1.95790465e-01],\n",
       "       [ 1.50745235e+00,  1.05683525e+00],\n",
       "       [ 2.68885831e-01,  2.19727877e+00],\n",
       "       [-1.70716059e+00, -1.62234262e+00],\n",
       "       [-1.11979784e+00, -1.56574138e+00],\n",
       "       [-1.28449532e+00, -1.32139493e+00],\n",
       "       [-8.40053119e-01, -6.30892891e-01],\n",
       "       [ 1.85684746e+00, -6.44779824e-02],\n",
       "       [ 8.42943466e-01,  1.54656679e+00],\n",
       "       [ 2.68885831e-01, -6.81616024e-02],\n",
       "       [ 1.77278246e+00, -3.16384628e-01],\n",
       "       [ 1.41407334e+00,  8.73272227e-01],\n",
       "       [ 8.42943466e-01, -1.99616155e-01],\n",
       "       [ 1.97931794e+00, -2.61053776e+00],\n",
       "       [ 1.64272548e+00,  1.37485682e+00],\n",
       "       [-8.40053119e-01, -8.24386656e-01],\n",
       "       [ 1.89813923e+00, -1.15213949e+00],\n",
       "       [ 8.42943466e-01,  2.38451857e-01],\n",
       "       [-2.02223253e+00, -9.95284592e-01],\n",
       "       [ 8.42943466e-01,  1.24332616e+00],\n",
       "       [-9.73174329e-01, -1.56574138e+00],\n",
       "       [-7.17494864e-01,  1.79458700e+00],\n",
       "       [ 8.99700376e-01,  1.66525393e+00],\n",
       "       [-4.96555142e-01,  1.98535667e+00],\n",
       "       [-1.70716059e+00, -1.53983281e-01],\n",
       "       [-7.17494864e-01, -6.07982759e-02],\n",
       "       [ 1.31789249e+00, -4.55675601e-01],\n",
       "       [ 2.68885831e-01,  5.75299425e-01],\n",
       "       [-2.99861445e-01,  1.20053009e+00],\n",
       "       [ 1.64272548e+00, -1.66249177e+00],\n",
       "       [ 1.46109915e+00, -1.75594894e+00],\n",
       "       [ 1.31789249e+00, -8.26673209e-01],\n",
       "       [ 1.20900603e-01,  5.99645438e-01],\n",
       "       [-1.21280920e-01,  1.70894027e+00],\n",
       "       [-1.11979784e+00, -1.36648312e-01],\n",
       "       [ 1.68663008e+00,  1.07793567e+00],\n",
       "       [ 1.06349813e+00,  8.50312627e-02],\n",
       "       [-1.11979784e+00, -1.53776667e+00],\n",
       "       [ 8.99700376e-01,  4.57205628e-01],\n",
       "       [-2.02223253e+00, -1.56574138e+00],\n",
       "       [ 4.31295271e-02,  1.62765339e+00],\n",
       "       [-7.17494864e-01, -6.72257365e-01],\n",
       "       [-4.96555142e-01, -3.15005794e-02],\n",
       "       [ 3.39517545e-01, -5.72932787e-01],\n",
       "       [ 1.26867686e+00, -3.26254311e-01],\n",
       "       [-8.40053119e-01,  1.14946275e+00],\n",
       "       [-1.28449532e+00, -1.00893122e+00],\n",
       "       [-4.96555142e-01, -1.73441829e+00],\n",
       "       [ 1.72997607e+00, -1.94663323e+00],\n",
       "       [ 1.20900603e-01,  8.18310888e-01],\n",
       "       [ 4.31295271e-02,  8.31838752e-01],\n",
       "       [ 6.03379808e-01, -1.68065526e-01],\n",
       "       [-4.96555142e-01, -5.18341058e-01],\n",
       "       [-2.99861445e-01,  5.79298096e-01],\n",
       "       [ 4.31295271e-02,  1.49834242e+00],\n",
       "       [ 1.06349813e+00,  1.52416283e+00],\n",
       "       [-1.11979784e+00, -1.01934529e+00],\n",
       "       [ 4.31295271e-02,  5.26509719e-01],\n",
       "       [ 1.36634754e+00,  1.27196527e+00],\n",
       "       [-3.95628657e-01, -3.70352561e-01],\n",
       "       [ 6.03379808e-01,  8.24783843e-01],\n",
       "       [-4.96555142e-01,  2.62575832e-01],\n",
       "       [-3.95628657e-01, -1.29513392e-01],\n",
       "       [ 3.39517545e-01,  1.10537605e+00],\n",
       "       [-8.40053119e-01, -1.63743932e-01],\n",
       "       [ 1.41407334e+00,  1.26687820e+00],\n",
       "       [ 6.03379808e-01, -4.18679400e-01],\n",
       "       [-2.08590295e-01,  1.10281964e+00],\n",
       "       [ 7.25818974e-01,  6.40755412e-01],\n",
       "       [ 4.31295271e-02,  8.96034247e-01],\n",
       "       [-2.99861445e-01, -1.00338212e-01],\n",
       "       [ 1.96078124e-01,  5.14030727e-01],\n",
       "       [ 1.41407334e+00,  1.97613776e-01],\n",
       "       [ 1.06349813e+00,  1.52253204e+00],\n",
       "       [ 1.26867686e+00,  1.24022323e+00],\n",
       "       [-3.95628657e-01, -3.56603787e-02],\n",
       "       [ 8.42943466e-01,  1.02421019e+00],\n",
       "       [ 1.16782711e+00,  6.34338593e-01],\n",
       "       [-1.28449532e+00, -1.23633866e+00],\n",
       "       [ 8.99700376e-01,  1.08473832e+00],\n",
       "       [ 1.89813923e+00,  2.04768566e+00],\n",
       "       [ 1.41407334e+00, -6.08497693e-01],\n",
       "       [ 8.42943466e-01,  1.03693130e+00],\n",
       "       [ 4.08142448e-01,  9.14944849e-01],\n",
       "       [-1.70716059e+00, -1.06306614e+00],\n",
       "       [ 4.74909228e-01,  1.10355025e+00],\n",
       "       [ 1.50745235e+00, -8.21690412e-01],\n",
       "       [ 1.26867686e+00, -6.04672940e-02],\n",
       "       [-3.74955871e-02,  3.54575350e-02],\n",
       "       [-1.11979784e+00, -1.30646025e+00],\n",
       "       [-2.99861445e-01,  4.39640548e-01],\n",
       "       [ 4.31295271e-02,  2.44234721e-02],\n",
       "       [ 1.00992197e+00,  9.36164224e-01],\n",
       "       [ 1.96078124e-01, -1.17803585e+00],\n",
       "       [ 1.50745235e+00, -2.99169636e-01],\n",
       "       [-3.95628657e-01,  2.26122840e-01],\n",
       "       [-1.70716059e+00, -2.01050314e-02],\n",
       "       [ 1.00992197e+00,  7.43600390e-01],\n",
       "       [ 1.06349813e+00,  8.22286989e-01],\n",
       "       [-6.03480739e-01, -1.33813199e+00],\n",
       "       [ 4.08142448e-01,  5.54650850e-02],\n",
       "       [-7.17494864e-01,  2.66115923e-02],\n",
       "       [ 7.85006224e-01,  8.77742109e-01],\n",
       "       [ 3.39517545e-01, -2.12078772e-01],\n",
       "       [ 7.85006224e-01, -1.97741042e-01],\n",
       "       [-1.70716059e+00, -1.51797875e+00],\n",
       "       [-1.28449532e+00, -1.39668511e+00],\n",
       "       [ 1.41407334e+00,  1.24782523e+00],\n",
       "       [-6.03480739e-01, -1.79730285e-01],\n",
       "       [-1.28449532e+00, -1.45532720e+00],\n",
       "       [ 6.03379808e-01,  1.75215357e+00],\n",
       "       [-9.73174329e-01, -9.05536831e-01],\n",
       "       [ 1.68663008e+00, -1.46435706e-01],\n",
       "       [ 4.74909228e-01,  5.41288405e-01],\n",
       "       [-4.96555142e-01,  1.88525457e-01],\n",
       "       [ 8.42943466e-01,  9.48432413e-01],\n",
       "       [ 4.31295271e-02,  1.21659149e-02],\n",
       "       [ 1.31789249e+00,  3.59358856e-01],\n",
       "       [ 2.68885831e-01,  2.02932989e+00],\n",
       "       [ 3.39517545e-01,  1.62331249e+00],\n",
       "       [ 3.39517545e-01,  1.26307639e+00],\n",
       "       [ 1.00992197e+00, -2.18577007e-01],\n",
       "       [ 3.39517545e-01,  1.24492653e+00],\n",
       "       [ 7.25818974e-01, -2.71629027e-01],\n",
       "       [ 4.31295271e-02, -5.31488991e-01],\n",
       "       [-1.11979784e+00, -1.19067440e+00]])"
      ]
     },
     "execution_count": 53,
     "metadata": {},
     "output_type": "execute_result"
    }
   ],
   "source": [
    "from sklearn.preprocessing import StandardScaler\n",
    "sc=StandardScaler()\n",
    "sc.fit_transform(x)\n",
    "x"
   ]
  },
  {
   "cell_type": "markdown",
   "id": "6398ec20",
   "metadata": {},
   "source": [
    "Creating the Model for predictions"
   ]
  },
  {
   "cell_type": "markdown",
   "id": "51f9d904",
   "metadata": {},
   "source": []
  },
  {
   "cell_type": "code",
   "execution_count": 58,
   "id": "85113b98",
   "metadata": {},
   "outputs": [],
   "source": [
    "from sklearn.linear_model import LinearRegression\n",
    "from sklearn.metrics import mean_squared_error,r2_score\n",
    "from sklearn.ensemble import RandomForestRegressor\n",
    "from sklearn.model_selection import train_test_split"
   ]
  },
  {
   "cell_type": "markdown",
   "id": "988002d1",
   "metadata": {},
   "source": [
    "Splitting the DataFrame into train_test_split"
   ]
  },
  {
   "cell_type": "markdown",
   "id": "0712feeb",
   "metadata": {},
   "source": [
    "Testing diffrent algorithms\n",
    "\n",
    "LINEAR REGRESSION"
   ]
  },
  {
   "cell_type": "code",
   "execution_count": 60,
   "id": "18033408",
   "metadata": {},
   "outputs": [
    {
     "name": "stdout",
     "output_type": "stream",
     "text": [
      "Result  from Linear regression model\n",
      "R2 score is  0.9731334810168581\n",
      "mean_squared_error 18741650.93970076\n"
     ]
    }
   ],
   "source": [
    "x_train,x_test,y_train,y_test=train_test_split(x,y, random_state=250, test_size=0.20)\n",
    "lr= LinearRegression( positive=True, n_jobs=2)\n",
    "lr.fit(x_train,y_train)\n",
    "pred=lr.predict(x_test)\n",
    "print('Result  from Linear regression model')\n",
    "print('R2 score is ',r2_score(pred,y_test))\n",
    "print('mean_squared_error', mean_squared_error(pred,y_test))"
   ]
  },
  {
   "cell_type": "code",
   "execution_count": 74,
   "id": "5adb7120",
   "metadata": {},
   "outputs": [
    {
     "data": {
      "text/html": [
       "<style>#sk-container-id-3 {color: black;background-color: white;}#sk-container-id-3 pre{padding: 0;}#sk-container-id-3 div.sk-toggleable {background-color: white;}#sk-container-id-3 label.sk-toggleable__label {cursor: pointer;display: block;width: 100%;margin-bottom: 0;padding: 0.3em;box-sizing: border-box;text-align: center;}#sk-container-id-3 label.sk-toggleable__label-arrow:before {content: \"▸\";float: left;margin-right: 0.25em;color: #696969;}#sk-container-id-3 label.sk-toggleable__label-arrow:hover:before {color: black;}#sk-container-id-3 div.sk-estimator:hover label.sk-toggleable__label-arrow:before {color: black;}#sk-container-id-3 div.sk-toggleable__content {max-height: 0;max-width: 0;overflow: hidden;text-align: left;background-color: #f0f8ff;}#sk-container-id-3 div.sk-toggleable__content pre {margin: 0.2em;color: black;border-radius: 0.25em;background-color: #f0f8ff;}#sk-container-id-3 input.sk-toggleable__control:checked~div.sk-toggleable__content {max-height: 200px;max-width: 100%;overflow: auto;}#sk-container-id-3 input.sk-toggleable__control:checked~label.sk-toggleable__label-arrow:before {content: \"▾\";}#sk-container-id-3 div.sk-estimator input.sk-toggleable__control:checked~label.sk-toggleable__label {background-color: #d4ebff;}#sk-container-id-3 div.sk-label input.sk-toggleable__control:checked~label.sk-toggleable__label {background-color: #d4ebff;}#sk-container-id-3 input.sk-hidden--visually {border: 0;clip: rect(1px 1px 1px 1px);clip: rect(1px, 1px, 1px, 1px);height: 1px;margin: -1px;overflow: hidden;padding: 0;position: absolute;width: 1px;}#sk-container-id-3 div.sk-estimator {font-family: monospace;background-color: #f0f8ff;border: 1px dotted black;border-radius: 0.25em;box-sizing: border-box;margin-bottom: 0.5em;}#sk-container-id-3 div.sk-estimator:hover {background-color: #d4ebff;}#sk-container-id-3 div.sk-parallel-item::after {content: \"\";width: 100%;border-bottom: 1px solid gray;flex-grow: 1;}#sk-container-id-3 div.sk-label:hover label.sk-toggleable__label {background-color: #d4ebff;}#sk-container-id-3 div.sk-serial::before {content: \"\";position: absolute;border-left: 1px solid gray;box-sizing: border-box;top: 0;bottom: 0;left: 50%;z-index: 0;}#sk-container-id-3 div.sk-serial {display: flex;flex-direction: column;align-items: center;background-color: white;padding-right: 0.2em;padding-left: 0.2em;position: relative;}#sk-container-id-3 div.sk-item {position: relative;z-index: 1;}#sk-container-id-3 div.sk-parallel {display: flex;align-items: stretch;justify-content: center;background-color: white;position: relative;}#sk-container-id-3 div.sk-item::before, #sk-container-id-3 div.sk-parallel-item::before {content: \"\";position: absolute;border-left: 1px solid gray;box-sizing: border-box;top: 0;bottom: 0;left: 50%;z-index: -1;}#sk-container-id-3 div.sk-parallel-item {display: flex;flex-direction: column;z-index: 1;position: relative;background-color: white;}#sk-container-id-3 div.sk-parallel-item:first-child::after {align-self: flex-end;width: 50%;}#sk-container-id-3 div.sk-parallel-item:last-child::after {align-self: flex-start;width: 50%;}#sk-container-id-3 div.sk-parallel-item:only-child::after {width: 0;}#sk-container-id-3 div.sk-dashed-wrapped {border: 1px dashed gray;margin: 0 0.4em 0.5em 0.4em;box-sizing: border-box;padding-bottom: 0.4em;background-color: white;}#sk-container-id-3 div.sk-label label {font-family: monospace;font-weight: bold;display: inline-block;line-height: 1.2em;}#sk-container-id-3 div.sk-label-container {text-align: center;}#sk-container-id-3 div.sk-container {/* jupyter's `normalize.less` sets `[hidden] { display: none; }` but bootstrap.min.css set `[hidden] { display: none !important; }` so we also need the `!important` here to be able to override the default hidden behavior on the sphinx rendered scikit-learn.org. See: https://github.com/scikit-learn/scikit-learn/issues/21755 */display: inline-block !important;position: relative;}#sk-container-id-3 div.sk-text-repr-fallback {display: none;}</style><div id=\"sk-container-id-3\" class=\"sk-top-container\"><div class=\"sk-text-repr-fallback\"><pre>Lasso(alpha=50, max_iter=100, tol=0.1)</pre><b>In a Jupyter environment, please rerun this cell to show the HTML representation or trust the notebook. <br />On GitHub, the HTML representation is unable to render, please try loading this page with nbviewer.org.</b></div><div class=\"sk-container\" hidden><div class=\"sk-item\"><div class=\"sk-estimator sk-toggleable\"><input class=\"sk-toggleable__control sk-hidden--visually\" id=\"sk-estimator-id-3\" type=\"checkbox\" checked><label for=\"sk-estimator-id-3\" class=\"sk-toggleable__label sk-toggleable__label-arrow\">Lasso</label><div class=\"sk-toggleable__content\"><pre>Lasso(alpha=50, max_iter=100, tol=0.1)</pre></div></div></div></div></div>"
      ],
      "text/plain": [
       "Lasso(alpha=50, max_iter=100, tol=0.1)"
      ]
     },
     "execution_count": 74,
     "metadata": {},
     "output_type": "execute_result"
    }
   ],
   "source": [
    "from sklearn import linear_model\n",
    "from sklearn.linear_model import Lasso\n",
    "lasso_reg =linear_model.Lasso(alpha=50, max_iter=100, tol=0.1)\n",
    "lasso_reg.fit(x_train, y_train)"
   ]
  },
  {
   "cell_type": "code",
   "execution_count": 75,
   "id": "fd2cfae0",
   "metadata": {},
   "outputs": [
    {
     "data": {
      "text/plain": [
       "0.9743541262337363"
      ]
     },
     "execution_count": 75,
     "metadata": {},
     "output_type": "execute_result"
    }
   ],
   "source": [
    "lasso_reg.score(x_test,y_test)"
   ]
  },
  {
   "cell_type": "markdown",
   "id": "093c7c37",
   "metadata": {},
   "source": [
    "RANDOM FOREST"
   ]
  },
  {
   "cell_type": "code",
   "execution_count": 76,
   "id": "21ad6fe0",
   "metadata": {},
   "outputs": [
    {
     "name": "stdout",
     "output_type": "stream",
     "text": [
      "result  from random_forestregressor\n",
      "R2 score is  0.9997770724687142\n",
      "mean_squared_error 161428.0241772148\n"
     ]
    }
   ],
   "source": [
    "rf=RandomForestRegressor(n_estimators=10, bootstrap=True, random_state=2000)\n",
    "rf.fit(x_train,y_train)\n",
    "pred=rf.predict(x_test)\n",
    "print('result  from random_forestregressor')\n",
    "print('R2 score is ',r2_score(pred,y_test))\n",
    "print('mean_squared_error', mean_squared_error(pred,y_test))"
   ]
  },
  {
   "cell_type": "markdown",
   "id": "023ad58f",
   "metadata": {},
   "source": [
    "SVM REGRESSOR"
   ]
  },
  {
   "cell_type": "code",
   "execution_count": 77,
   "id": "914b03a0",
   "metadata": {},
   "outputs": [
    {
     "name": "stdout",
     "output_type": "stream",
     "text": [
      "result  from svm regrssor\n",
      "R2 score is  0.9997770724687142\n",
      "mean_squared_error 161428.0241772148\n"
     ]
    }
   ],
   "source": [
    "from sklearn.svm import SVR\n",
    "sv = SVR(kernel ='rbf', gamma=1, epsilon=3)\n",
    "sv.fit(x_train, y_train)\n",
    "pred_sv= sv.predict(x_test)\n",
    "print('result  from svm regrssor')\n",
    "print('R2 score is ',r2_score(pred,y_test))\n",
    "print('mean_squared_error', mean_squared_error(pred,y_test))"
   ]
  },
  {
   "cell_type": "markdown",
   "id": "5bba882e",
   "metadata": {},
   "source": [
    "KNN REGRESSOR"
   ]
  },
  {
   "cell_type": "code",
   "execution_count": 78,
   "id": "0442cc81",
   "metadata": {},
   "outputs": [
    {
     "name": "stdout",
     "output_type": "stream",
     "text": [
      "result  from knn regressor\n",
      "R2 score is  0.9997770724687142\n",
      "mean_squared_error 161428.0241772148\n"
     ]
    }
   ],
   "source": [
    "from sklearn.neighbors  import KNeighborsRegressor\n",
    "kn =KNeighborsRegressor(n_neighbors=7, algorithm='kd_tree', weights='distance')\n",
    "kn.fit(x_train, y_train)\n",
    "pred_kn= kn.predict(x_test)\n",
    "print('result  from knn regressor')\n",
    "print('R2 score is ',r2_score(pred,y_test))\n",
    "print('mean_squared_error', mean_squared_error(pred,y_test))"
   ]
  },
  {
   "cell_type": "code",
   "execution_count": 80,
   "id": "c675b873",
   "metadata": {},
   "outputs": [],
   "source": [
    "import pickle\n",
    "filename='salary _predictions'\n",
    "pickle.dump(kn,open(filename,'wb'))"
   ]
  },
  {
   "cell_type": "code",
   "execution_count": 81,
   "id": "6e36048a",
   "metadata": {},
   "outputs": [
    {
     "data": {
      "text/html": [
       "<div>\n",
       "<style scoped>\n",
       "    .dataframe tbody tr th:only-of-type {\n",
       "        vertical-align: middle;\n",
       "    }\n",
       "\n",
       "    .dataframe tbody tr th {\n",
       "        vertical-align: top;\n",
       "    }\n",
       "\n",
       "    .dataframe thead th {\n",
       "        text-align: right;\n",
       "    }\n",
       "</style>\n",
       "<table border=\"1\" class=\"dataframe\">\n",
       "  <thead>\n",
       "    <tr style=\"text-align: right;\">\n",
       "      <th></th>\n",
       "      <th>Orginal</th>\n",
       "      <th>Predicted</th>\n",
       "    </tr>\n",
       "  </thead>\n",
       "  <tbody>\n",
       "    <tr>\n",
       "      <th>0</th>\n",
       "      <td>134690</td>\n",
       "      <td>133891.224260</td>\n",
       "    </tr>\n",
       "    <tr>\n",
       "      <th>1</th>\n",
       "      <td>77000</td>\n",
       "      <td>77000.000000</td>\n",
       "    </tr>\n",
       "    <tr>\n",
       "      <th>2</th>\n",
       "      <td>93000</td>\n",
       "      <td>94769.517931</td>\n",
       "    </tr>\n",
       "    <tr>\n",
       "      <th>3</th>\n",
       "      <td>83000</td>\n",
       "      <td>82239.904695</td>\n",
       "    </tr>\n",
       "    <tr>\n",
       "      <th>4</th>\n",
       "      <td>78162</td>\n",
       "      <td>80486.464739</td>\n",
       "    </tr>\n",
       "    <tr>\n",
       "      <th>...</th>\n",
       "      <td>...</td>\n",
       "      <td>...</td>\n",
       "    </tr>\n",
       "    <tr>\n",
       "      <th>74</th>\n",
       "      <td>94350</td>\n",
       "      <td>95715.265523</td>\n",
       "    </tr>\n",
       "    <tr>\n",
       "      <th>75</th>\n",
       "      <td>70700</td>\n",
       "      <td>75369.938381</td>\n",
       "    </tr>\n",
       "    <tr>\n",
       "      <th>76</th>\n",
       "      <td>111350</td>\n",
       "      <td>112007.836194</td>\n",
       "    </tr>\n",
       "    <tr>\n",
       "      <th>77</th>\n",
       "      <td>70768</td>\n",
       "      <td>72826.029013</td>\n",
       "    </tr>\n",
       "    <tr>\n",
       "      <th>78</th>\n",
       "      <td>128800</td>\n",
       "      <td>128970.083703</td>\n",
       "    </tr>\n",
       "  </tbody>\n",
       "</table>\n",
       "<p>79 rows × 2 columns</p>\n",
       "</div>"
      ],
      "text/plain": [
       "    Orginal      Predicted\n",
       "0    134690  133891.224260\n",
       "1     77000   77000.000000\n",
       "2     93000   94769.517931\n",
       "3     83000   82239.904695\n",
       "4     78162   80486.464739\n",
       "..      ...            ...\n",
       "74    94350   95715.265523\n",
       "75    70700   75369.938381\n",
       "76   111350  112007.836194\n",
       "77    70768   72826.029013\n",
       "78   128800  128970.083703\n",
       "\n",
       "[79 rows x 2 columns]"
      ]
     },
     "execution_count": 81,
     "metadata": {},
     "output_type": "execute_result"
    }
   ],
   "source": [
    "import numpy as np\n",
    "a =np.array(y_test)\n",
    "predicted=np.array(kn.predict(x_test))\n",
    "df_sal=pd.DataFrame({'Orginal':a,'Predicted':predicted}, index=range(len(a)))\n",
    "df_sal"
   ]
  },
  {
   "cell_type": "code",
   "execution_count": null,
   "id": "9ef10d2b",
   "metadata": {},
   "outputs": [],
   "source": []
  },
  {
   "cell_type": "code",
   "execution_count": null,
   "id": "8e94329e",
   "metadata": {},
   "outputs": [],
   "source": []
  }
 ],
 "metadata": {
  "kernelspec": {
   "display_name": "Python 3 (ipykernel)",
   "language": "python",
   "name": "python3"
  },
  "language_info": {
   "codemirror_mode": {
    "name": "ipython",
    "version": 3
   },
   "file_extension": ".py",
   "mimetype": "text/x-python",
   "name": "python",
   "nbconvert_exporter": "python",
   "pygments_lexer": "ipython3",
   "version": "3.9.7"
  }
 },
 "nbformat": 4,
 "nbformat_minor": 5
}
